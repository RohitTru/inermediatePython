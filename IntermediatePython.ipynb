{
 "cells": [
  {
   "attachments": {},
   "cell_type": "markdown",
   "metadata": {},
   "source": [
    "# Intermediate Python Programming Course\n",
    "\n",
    "\n",
    "\n",
    "\n"
   ]
  },
  {
   "attachments": {},
   "cell_type": "markdown",
   "metadata": {},
   "source": [
    "## [Tutorial Link](https://www.youtube.com/watch?v=HGOBQPFzWKo)\n",
    "### TimeStamp: (53:09 / 5:55:46)"
   ]
  },
  {
   "attachments": {},
   "cell_type": "markdown",
   "metadata": {},
   "source": [
    "## Table of Contents\n",
    "\n",
    "| Topic | Description \"Hello, for now im going to pause on typing the table of contents out, if I want to be a programmer I cant keep doing this manually. I also want to keep it in this markdown format, as I imagine some users would be unable to view it if I used nbExtensions, therefore unable make use of the table of contents, so after I'm done with this tutorial, Ill write a script that converts the jupyter notebook into a scrap-able file, and let me (the user of the script) chose how they want to select the components that build up their table of contents heading then return all the values in a format edorder including the number of the index which resets after each topic like below.\n",
    "| ----------- | ----------- |\n",
    "| [Lists](#Lists) | **1.** Creating Lists, **2.** Empty Lists, **3.** Duplicates, Strings, Integers, Booleans, **4.** Accessing a Element From a List, **5.** Iterating Over a List Using a For-Loop, **6.** Checking if a Specific Item is in Your List, **7.** User Input List checking, **8.** Appending Items to a List, **9.** Adding and Item to a List in a specific index, **10.** Removing the Last Item from a List, **11.** Removing Specific Elements from a List Using the Element, **12.0** Clearing a List in its Entirety, **13.** Reversing the List, **14** Sort method, **15.** Creating a List with the Same Elements multiple times, **16.** Combining Lists Together, **17.** Slicing is a Very Good way of Accessing Sub-Parts of your List, **18.** .Copy Method: How to Make a Copy of a List, **19.** List Comprehension|\n",
    "| [Tuples](#Tuples) | **1.** To create a tuple, **2.** You Need the Comma, **3.** Tuple Function, **4.** Accessing Elements in a Tuple, **5.** Immutable, **6.** Iterate over a Tuple, **7.** Check if Element is in Tuple, **8.** Retrieving # of elements, **9.** Count Instances of an Element, **10.** Index of a Element, **11.** Tuple to a List, & Back, **12.** Slicing to Access Subparts using Colon, **13.** Step, **14.** Unpacking a Tuple, **15.** Unpacking Multiple Elements Using *, **16.** Comparing Tuples and Lists, **16.** Speed: Tuple vs List\n",
    "| [Dictionary](#Dictionary) | **1.** Creating a dictionary, **2.** Creating Dictionary Using the Function, **3.** How weird can dictionaries get?, **4.** Mutability, **5.** Deleting an Item, **6.** The Pop Method, **7.** pop Item, **8.** Using if to Find Key in Dict, **9.** Try Statement, **10.** Using a For-Loop with Dictionaries, **11.** .Keys method, **12.** Looping over the values, **13.** Retrieving both keys and values, **14.** Copying Dictionaries, **15.** Merging 2 Different Dictionaries, **16** Possible Key Types, **17** cant use a list as a key|\n",
    "| [Sets](#Sets) | **1.** Creating a set, **2.** No Duplicates, **3.** Using the Set Function, **4.** Passing a string through, **5.** Creating an Empty Set, **6.** Adding Elements to a Set, **7.** Removing Elements, **8.** Discard method, **9.** Clear method, **10.** Pop method, **11.** Iterating over a set, **12.** Check if an element is in a set, **13.** Union, **14.** Intersection, **15.** Calculating the Difference, **16.** symmetric_difference, **17** The update method, **18.** intersection_update method, **19.** The difference_update method, **20.** Symmetric_difference_update, **21.** Sub set, **22.** Super set, **23.** How to find if two sets have no commonalities, **24.** Copying sets, **25.** Frozen Set|\n",
    "| [Strings](#Strings) | **1.** Creating a String, **2.** How to Use Single or Double Quotes Inside of a String, **3.** Accessing characters, **4.** Sub String, **5.** Immutability, **6.**, Reversing a string, **7.** Combining Strings, **8.** Iterating over a string, **9.**|\n",
    "| [Collections](#Collections) |  |\n",
    "| [Itertools](#Itertools) |  |\n",
    "| [Lambda Functions](#Lambda-Functions) |  |\n",
    "| [Exceptions And Errors](#Exceptions-And-Errors) |  |\n",
    "| [Logging](#Logging) |  |\n",
    "| [JSON](#JSON) |  |\n",
    "| [Random Numbers](#Random-Numbers) |  |\n",
    "| [Decorators](#Decorators) |  |\n",
    "| [Generators](#Generators) |  |\n",
    "| [Threading vs Multiprocessing](#Threading-vs-Multiprocessing) |  |\n",
    "| [Multithreading](#Multithreading) |  |\n",
    "| [Multiprocessing](#Multiprocessing) |  |\n",
    "| [Function Arguments](#Function-Arguments) |  |\n",
    "| [Shallow vs Deep Copying](#Shallow-vs-Deep-Copying) |  |\n",
    "| [The Asterisk (*) Operator](#The-Asterisk-(*)-Operator) |  |\n",
    "| [Context Managers](#Context-Managers) |  |\n",
    "| [Error Handling](#Error-Handling) |  |\n",
    "| [Object Oriented Programming](#Object-Oriented-Programming) |  | "
   ]
  },
  {
   "attachments": {},
   "cell_type": "markdown",
   "metadata": {},
   "source": [
    "# Packages"
   ]
  },
  {
   "cell_type": "code",
   "execution_count": 29,
   "metadata": {},
   "outputs": [],
   "source": [
    "import sys\n",
    "import timeit"
   ]
  },
  {
   "attachments": {},
   "cell_type": "markdown",
   "metadata": {},
   "source": [
    "# Lists\n",
    "A list is a collection data type is ordered, mutable, and it allows duplicate elements\n",
    "*Create a list by doing the following* myList = [] | each element within brackets must be separated by commas\n",
    "\n",
    "Characteristics of lists:\n",
    "- Can contain different data types in the same list\n"
   ]
  },
  {
   "attachments": {},
   "cell_type": "markdown",
   "metadata": {},
   "source": [
    "#### Creating Lists"
   ]
  },
  {
   "cell_type": "code",
   "execution_count": 30,
   "metadata": {},
   "outputs": [
    {
     "name": "stdout",
     "output_type": "stream",
     "text": [
      "['bananas', 'apples', 'water melons']\n"
     ]
    }
   ],
   "source": [
    "# Creating a list, assigning it to myList, assigning various fruits as elements separated by comma's, then printing it.\n",
    "myList = [\"bananas\", \"apples\", \"water melons\"]\n",
    "print(myList)"
   ]
  },
  {
   "attachments": {},
   "cell_type": "markdown",
   "metadata": {},
   "source": [
    "#### Empty Lists"
   ]
  },
  {
   "cell_type": "code",
   "execution_count": 31,
   "metadata": {},
   "outputs": [
    {
     "name": "stdout",
     "output_type": "stream",
     "text": [
      "[]\n"
     ]
    }
   ],
   "source": [
    "# This creates and an empty list and you can later append items\n",
    "myList2 = list()\n",
    "print(myList2)"
   ]
  },
  {
   "attachments": {},
   "cell_type": "markdown",
   "metadata": {},
   "source": [
    "#### Duplicates, Strings, Integers, Booleans"
   ]
  },
  {
   "cell_type": "code",
   "execution_count": 32,
   "metadata": {},
   "outputs": [
    {
     "name": "stdout",
     "output_type": "stream",
     "text": [
      "['bananas', True, 34, 0.09, 'bananas']\n"
     ]
    }
   ],
   "source": [
    "# This is a list that has a duplicate element, boolean, integer and a float.\n",
    "myList3 = [\"bananas\", True, 34, .09, \"bananas\"] # PLAY HERE\n",
    "print(myList3)"
   ]
  },
  {
   "attachments": {},
   "cell_type": "markdown",
   "metadata": {},
   "source": [
    "#### Accessing a Element From a List"
   ]
  },
  {
   "cell_type": "code",
   "execution_count": 33,
   "metadata": {},
   "outputs": [
    {
     "name": "stdout",
     "output_type": "stream",
     "text": [
      "pig\n"
     ]
    }
   ],
   "source": [
    "# You can address the index in brackets to retrieve the element from the list. *NOTE* that the index starts from 0\n",
    "# You can also specify a negative number in the index and it will refer to the list backwards starting from the last entry\n",
    "\n",
    "myList4 = [\"dog\", \"cat\", \"snake\", \"pig\", \"horse\"]\n",
    "item = myList4[3] # PLAY HERE\n",
    "print(item)"
   ]
  },
  {
   "attachments": {},
   "cell_type": "markdown",
   "metadata": {},
   "source": [
    "#### Iterating Over a List Using a For-Loop"
   ]
  },
  {
   "cell_type": "code",
   "execution_count": 34,
   "metadata": {},
   "outputs": [
    {
     "name": "stdout",
     "output_type": "stream",
     "text": [
      "9\n",
      "10\n",
      "11\n",
      "12\n",
      "12\n",
      "13\n",
      "13\n",
      "14\n",
      "775\n"
     ]
    }
   ],
   "source": [
    "# If you want to learn more about For-Loops: https://www.youtube.com/watch?v=dHANJ4l6fwA\n",
    "# Here we have a list of various integers and we use the for loop to go through each individual element and add the integer 8 to each element. (It doesn't seam like you can add an integer to a string when using the For Loop)\n",
    "\n",
    "myList5 = [1,2,3,4,4,5,5,6,767]\n",
    "\n",
    "for i in myList5:\n",
    "    print(i + 8)\n"
   ]
  },
  {
   "attachments": {},
   "cell_type": "markdown",
   "metadata": {},
   "source": [
    "#### Checking if a Specific Item is in Your List"
   ]
  },
  {
   "cell_type": "code",
   "execution_count": 35,
   "metadata": {},
   "outputs": [
    {
     "name": "stdout",
     "output_type": "stream",
     "text": [
      "Yes\n"
     ]
    }
   ],
   "source": [
    "# This program uses an If-Statement to check whether an element is in a list or not\n",
    "myList6 = [\"red\", \"green\", \"blue\", \"yellow\", \"orange\", \"purple\"]\n",
    "if \"yellow\" in myList6:\n",
    "    print(\"Yes\")\n",
    "else:\n",
    "    print (\"no\")"
   ]
  },
  {
   "attachments": {},
   "cell_type": "markdown",
   "metadata": {},
   "source": [
    "#### User Input List checking: (This is a program I wanted to write for fun)"
   ]
  },
  {
   "cell_type": "code",
   "execution_count": 36,
   "metadata": {},
   "outputs": [
    {
     "name": "stdout",
     "output_type": "stream",
     "text": [
      "what color do you think is in the list\n",
      "your color 2 is not in the list\n"
     ]
    }
   ],
   "source": [
    "# This program consist of a list with various colors and at the start of the program it simply asks what color does the user think is in the list, then we use an if statement to find whether that color was in the list or not.\n",
    "myList6 = [\"red\", \"green\", \"blue\", \"yellow\", \"orange\", \"purple\"]\n",
    "print(\"what color do you think is in the list\")\n",
    "user_color = input()\n",
    "\n",
    "if user_color in myList6:\n",
    "    print(user_color + \" is in the list\")\n",
    "else:\n",
    "    print(\"your color \" + user_color + \" is not in the list\")"
   ]
  },
  {
   "attachments": {},
   "cell_type": "markdown",
   "metadata": {},
   "source": [
    "#### Appending Items to a List"
   ]
  },
  {
   "cell_type": "code",
   "execution_count": 37,
   "metadata": {},
   "outputs": [
    {
     "name": "stdout",
     "output_type": "stream",
     "text": [
      "['a', 'b', 'c', 'd', 'e', 'f', 'g', 'h']\n"
     ]
    }
   ],
   "source": [
    "# In this program we have a list with elements and we use the .append method/function to pass through a new element we would like to add to the end of the list\n",
    "myList7 = ['a','b','c','d','e','f','g']\n",
    "myList7.append('h')\n",
    "print(myList7)"
   ]
  },
  {
   "attachments": {},
   "cell_type": "markdown",
   "metadata": {},
   "source": [
    "#### Adding and Item to a List in a specific index"
   ]
  },
  {
   "cell_type": "code",
   "execution_count": 38,
   "metadata": {},
   "outputs": [
    {
     "name": "stdout",
     "output_type": "stream",
     "text": [
      "[1, 2, 3, 4, 5, 6, 7, 8, 9]\n"
     ]
    }
   ],
   "source": [
    "# In this program we have a list that includes integers 1 through 9 except for and we are going to use the insert method to add the number 4 to the correct position\n",
    "myList8 = [1,2,3,5,6,7,8,9] #notice how the number 4 is missing from the list\n",
    "myList8.insert(3,4) # The first number we passed through specifies the index\n",
    "print(myList8)\n"
   ]
  },
  {
   "attachments": {},
   "cell_type": "markdown",
   "metadata": {},
   "source": [
    "#### Removing the Last Item from a List"
   ]
  },
  {
   "cell_type": "code",
   "execution_count": 39,
   "metadata": {},
   "outputs": [
    {
     "name": "stdout",
     "output_type": "stream",
     "text": [
      "apple\n",
      "['duck', 'dog', 'cat', 'hamster']\n"
     ]
    }
   ],
   "source": [
    "# By using the .pop method we can remove the last item from this list and assign it to another variable and then we print out the original list to show the element is no longer there.\n",
    "myList9 = [\"duck\", \"dog\", \"cat\", \"hamster\", \"apple\"]\n",
    "removed_item = myList9.pop() # Applying the .pop method\n",
    "print(removed_item)\n",
    "print(myList9)"
   ]
  },
  {
   "attachments": {},
   "cell_type": "markdown",
   "metadata": {},
   "source": [
    "#### Removing Specific Elements from a List Using the Element"
   ]
  },
  {
   "cell_type": "code",
   "execution_count": 40,
   "metadata": {},
   "outputs": [
    {
     "name": "stdout",
     "output_type": "stream",
     "text": [
      "['berry', 'orange', 'apple', 'watermelon']\n"
     ]
    }
   ],
   "source": [
    "# In this program we have a list full of various fruits with one outlier at the end we would like to remove using the .remove method\n",
    "myList10 = [\"berry\", \"orange\", \"apple\", \"watermelon\", \"cake\"]\n",
    "myList10.remove(\"cake\") # Applying .remove\n",
    "print(myList10)"
   ]
  },
  {
   "attachments": {},
   "cell_type": "markdown",
   "metadata": {},
   "source": [
    "#### Clearing a List in its Entirety"
   ]
  },
  {
   "cell_type": "code",
   "execution_count": 41,
   "metadata": {},
   "outputs": [
    {
     "name": "stdout",
     "output_type": "stream",
     "text": [
      "[]\n"
     ]
    }
   ],
   "source": [
    "# In this program we clear the entirety of a list consisting of many integers and leave it completely empty afterwards\n",
    "myList11 = [1,2,3,4,5,6,7,8,9,10,11,12]\n",
    "myList11.clear() # Applying .clear\n",
    "print(myList11)"
   ]
  },
  {
   "attachments": {},
   "cell_type": "markdown",
   "metadata": {},
   "source": [
    "#### Reversing the List"
   ]
  },
  {
   "cell_type": "code",
   "execution_count": 42,
   "metadata": {},
   "outputs": [
    {
     "name": "stdout",
     "output_type": "stream",
     "text": [
      "['first', 'second', 'third', 'fourth', 'fifth']\n"
     ]
    }
   ],
   "source": [
    "# We have a list that would make more sense if we reversed it so on the line after introducing our list we call our list and append .reverse to order the the reorder the list. Then we print our function\n",
    "myList12 = [\"fifth\", \"fourth\", \"third\", \"second\", \"first\"]\n",
    "myList12.reverse()\n",
    "print(myList12)"
   ]
  },
  {
   "attachments": {},
   "cell_type": "markdown",
   "metadata": {},
   "source": [
    "#### Sort method"
   ]
  },
  {
   "cell_type": "code",
   "execution_count": 43,
   "metadata": {},
   "outputs": [
    {
     "name": "stdout",
     "output_type": "stream",
     "text": [
      "[0, 1, 2, 3, 4, 5, 6, 7, 8, 9]\n"
     ]
    }
   ],
   "source": [
    "# This method applies the sort function changing the original list\n",
    "myList13 = [8,9,0,1,2,5,6,3,4,7]\n",
    "myList13.sort()\n",
    "print(myList13)"
   ]
  },
  {
   "cell_type": "code",
   "execution_count": 44,
   "metadata": {},
   "outputs": [
    {
     "name": "stdout",
     "output_type": "stream",
     "text": [
      "[-8, 1, 4, 3, 8, 6, 10, -4, -6, 5, -3, 2]\n",
      "[-8, -6, -4, -3, 1, 2, 3, 4, 5, 6, 8, 10]\n"
     ]
    }
   ],
   "source": [
    "# Use this method if you want to sort a list but assign the values to a new list so you can still have the original list\n",
    "myList14 = [-8,1,4,3,8,6,10,-4,-6,5,-3,2]\n",
    "myList14_sorted = sorted(myList14)\n",
    "print(myList14)\n",
    "print(myList14_sorted)"
   ]
  },
  {
   "attachments": {},
   "cell_type": "markdown",
   "metadata": {},
   "source": [
    "#### Creating a List with the Same Elements multiple times"
   ]
  },
  {
   "cell_type": "code",
   "execution_count": 45,
   "metadata": {},
   "outputs": [
    {
     "name": "stdout",
     "output_type": "stream",
     "text": [
      "['apple', 'apple', 'apple', 'apple', 'apple', 'apple', 'apple', 'apple']\n"
     ]
    }
   ],
   "source": [
    "# Here we created a list with one element \"apple\" then multiplied 8 times\n",
    "myList15 = [\"apple\"] * 8\n",
    "print(myList15)"
   ]
  },
  {
   "attachments": {},
   "cell_type": "markdown",
   "metadata": {},
   "source": [
    "#### Combining Lists Together"
   ]
  },
  {
   "cell_type": "code",
   "execution_count": 46,
   "metadata": {},
   "outputs": [
    {
     "name": "stdout",
     "output_type": "stream",
     "text": [
      "['apple', 'apple', 'apple', 'apple', 'apple', 'apple', 'apple', 'apple', -8, 1, 4, 3, 8, 6, 10, -4, -6, 5, -3, 2]\n"
     ]
    }
   ],
   "source": [
    "myList16 = myList15 + myList14\n",
    "print(myList16)"
   ]
  },
  {
   "attachments": {},
   "cell_type": "markdown",
   "metadata": {},
   "source": [
    "#### Slicing is a Very Good way of Accessing Sub-Parts of your List"
   ]
  },
  {
   "cell_type": "code",
   "execution_count": 47,
   "metadata": {},
   "outputs": [
    {
     "name": "stdout",
     "output_type": "stream",
     "text": [
      "[1, 2, 3, 4, 5, 6, 7]\n"
     ]
    }
   ],
   "source": [
    "# Here we append brackets to the end of our list, passing a start index value and an end index value then we assign our sliced list to a new variable and print it\n",
    "myList17 = [1,1,1,1,2,3,4,5,6,7,7,7,7,7]\n",
    "myList17_Sliced = myList17[3:-4] # Note how we can use negative numbers to specify the end index\n",
    "print(myList17_Sliced)"
   ]
  },
  {
   "cell_type": "code",
   "execution_count": 48,
   "metadata": {},
   "outputs": [
    {
     "name": "stdout",
     "output_type": "stream",
     "text": [
      "[7, 7, 7, 5, 3, 1, 1]\n"
     ]
    }
   ],
   "source": [
    "#You can also leave parameters blank and they will mean from being to end. Furthermore adding another colon creates another argument known as step. Step defines the interval at which you would like to retunr values.\n",
    "\n",
    "myList17_Sliced2 = myList17[::-2]\n",
    "print(myList17_Sliced2)"
   ]
  },
  {
   "attachments": {},
   "cell_type": "markdown",
   "metadata": {},
   "source": [
    "#### .Copy Method: How to Make a Copy of a List"
   ]
  },
  {
   "cell_type": "code",
   "execution_count": 49,
   "metadata": {},
   "outputs": [
    {
     "name": "stdout",
     "output_type": "stream",
     "text": [
      "CORRECT WAY:\n",
      "This is the original list:['cherry', 'apple', 'mango', 'kiwi', 'pineapple']\n",
      "This is the append list\n",
      "['cherry', 'apple', 'mango', 'kiwi', 'pineapple', 'grape']\n",
      "------------------------------------------------\n",
      "CORRECT WAY:\n",
      "This is the original List: ['cherry', 'apple', 'mango', 'kiwi', 'pineapple']\n",
      "This is the append list\n",
      "['cherry', 'apple', 'mango', 'kiwi', 'pineapple', 'dragon fruit']\n",
      "------------------------------------------------\n",
      "CORRECT WAY:\n",
      "This is the original List: ['cherry', 'apple', 'mango', 'kiwi', 'pineapple']\n",
      "This is the append list\n",
      "['cherry', 'apple', 'mango', 'kiwi', 'pineapple', 'passion-fruit']\n",
      "------------------------------------------------\n",
      "INCORRECT WAY\n",
      "This is the original list:['cherry', 'apple', 'mango', 'kiwi', 'pineapple', 'bolts']\n",
      "This is the appended list\n",
      "['cherry', 'apple', 'mango', 'kiwi', 'pineapple', 'bolts']\n"
     ]
    }
   ],
   "source": [
    "originalList = [\"cherry\",\"apple\",'mango',\"kiwi\",\"pineapple\"]\n",
    "\n",
    "#Use this use this\n",
    "realCopyList = originalList.copy() #pass the .copy method to create a real duplicate with separate memory\n",
    "realCopyList.append(\"grape\")\n",
    "print(\"CORRECT WAY:\")\n",
    "print(\"This is the original list:\" + str(originalList))\n",
    "print(\"This is the append list\\n\" + str(realCopyList))\n",
    "\n",
    "print(\"------------------------------------------------\")\n",
    "# Also you create copies of list when you chose to slice lists\n",
    "print(\"CORRECT WAY:\")\n",
    "realCopyList2 = originalList[:]\n",
    "realCopyList2.append(\"dragon fruit\")\n",
    "print(\"This is the original List: \" + str(originalList))\n",
    "print(\"This is the append list\\n\" + str(realCopyList2))\n",
    "\n",
    "print(\"------------------------------------------------\")\n",
    "# Lastly you can use the list function\n",
    "print(\"CORRECT WAY:\")\n",
    "realCopyList3 = list(originalList)\n",
    "realCopyList3.append(\"passion-fruit\")\n",
    "print(\"This is the original List: \" + str(originalList))\n",
    "print(\"This is the append list\\n\" + str(realCopyList3) )\n",
    "\n",
    "print(\"------------------------------------------------\")\n",
    "#copyList.append(\"apricot\") #If you do anything to the copied variable it will change the original variable because the lists refer back to the same memory\n",
    "incorrectCopyList = originalList\n",
    "incorrectCopyList.append(\"bolts\")\n",
    "print(\"INCORRECT WAY\")\n",
    "print(\"This is the original list:\" + str(originalList))\n",
    "print(\"This is the appended list\\n\" + str(incorrectCopyList))"
   ]
  },
  {
   "attachments": {},
   "cell_type": "markdown",
   "metadata": {},
   "source": [
    "#### List Comprehension "
   ]
  },
  {
   "cell_type": "code",
   "execution_count": 50,
   "metadata": {},
   "outputs": [
    {
     "name": "stdout",
     "output_type": "stream",
     "text": [
      "The original list is:\n",
      "[1, 2, 3, 4, 5, 6, 7, 8, 9]\n",
      "The altered list\n",
      "[1, 4, 9, 16, 25, 36, 49, 64, 81]\n"
     ]
    }
   ],
   "source": [
    "# List comprehension is an elegant way to create a new list from another list with one line of code\n",
    "myList18 = [1,2,3,4,5,6,7,8,9]\n",
    "mySquaredList = [i*i for i in myList18] #We can apply a function to each element in a list using a for loop which in return creates another duplicate of the original\n",
    "\n",
    "print(\"The original list is:\\n\" + str(myList18))\n",
    "print(\"The altered list\\n\" + str(mySquaredList))\n"
   ]
  },
  {
   "attachments": {},
   "cell_type": "markdown",
   "metadata": {},
   "source": [
    "# Tuples\n",
    "Is a collection data type that is ordered and immutable\n",
    "Basically a list but cant not be changed after its been created."
   ]
  },
  {
   "attachments": {},
   "cell_type": "markdown",
   "metadata": {},
   "source": [
    "#### To create a tuple"
   ]
  },
  {
   "cell_type": "code",
   "execution_count": 51,
   "metadata": {},
   "outputs": [
    {
     "name": "stdout",
     "output_type": "stream",
     "text": [
      "('infected', 'zombies', 24, True)\n"
     ]
    }
   ],
   "source": [
    "# Creating a variable then setting it equal to comma separated items enclosed in lists. You can also leave the parentheses blank to create an empty. | parentheses are optional\n",
    "myTuple = (\"infected\", \"zombies\", 24, True) \n",
    "print(myTuple)"
   ]
  },
  {
   "attachments": {},
   "cell_type": "markdown",
   "metadata": {},
   "source": [
    "#### You Need the Comma"
   ]
  },
  {
   "cell_type": "code",
   "execution_count": 52,
   "metadata": {},
   "outputs": [
    {
     "name": "stdout",
     "output_type": "stream",
     "text": [
      "<class 'str'>\n",
      "<class 'tuple'>\n"
     ]
    }
   ],
   "source": [
    "# If you want to have only one value in your tuple\n",
    "# Don't do this.\n",
    "myIncorrectTuple = (\"Yousef\")\n",
    "print(type(myIncorrectTuple))\n",
    "\n",
    "# Do this.\n",
    "myCorrectTuple = (\"Yousef\",)\n",
    "print(type(myCorrectTuple))"
   ]
  },
  {
   "attachments": {},
   "cell_type": "markdown",
   "metadata": {},
   "source": [
    "#### Tuple Function"
   ]
  },
  {
   "cell_type": "code",
   "execution_count": 53,
   "metadata": {},
   "outputs": [
    {
     "name": "stdout",
     "output_type": "stream",
     "text": [
      "<class 'tuple'>\n"
     ]
    }
   ],
   "source": [
    "# You can also use the tuple function to create a tuple from an iterable list.\n",
    "myTuple2 = tuple(myList18)\n",
    "print(type(myTuple2))"
   ]
  },
  {
   "attachments": {},
   "cell_type": "markdown",
   "metadata": {},
   "source": [
    "#### Accessing Elements in a Tuple"
   ]
  },
  {
   "cell_type": "code",
   "execution_count": 54,
   "metadata": {},
   "outputs": [
    {
     "name": "stdout",
     "output_type": "stream",
     "text": [
      "item5\n"
     ]
    }
   ],
   "source": [
    "# This program creates a tuple with 7 elements. Then we create a variable and assign it to our tuple and include brackets at the end enclosing the index\n",
    "myTuple3 = (\"item1\", \"item2\", \"item3\", \"item4\", \"item5\", \"item 6\", \"item7\")\n",
    "item = myTuple3[4] # we assign the index within a tuple to a variable. You can also specify negative index.\n",
    "print(item) #Then we print it"
   ]
  },
  {
   "attachments": {},
   "cell_type": "markdown",
   "metadata": {},
   "source": [
    "#### Immutable  "
   ]
  },
  {
   "cell_type": "code",
   "execution_count": 55,
   "metadata": {},
   "outputs": [
    {
     "ename": "TypeError",
     "evalue": "'tuple' object does not support item assignment",
     "output_type": "error",
     "traceback": [
      "\u001b[0;31m---------------------------------------------------------------------------\u001b[0m",
      "\u001b[0;31mTypeError\u001b[0m                                 Traceback (most recent call last)",
      "Cell \u001b[0;32mIn[55], line 3\u001b[0m\n\u001b[1;32m      1\u001b[0m \u001b[39m# In this program we create a tuple and assign some elements. then we attempt to take an index with an already assigned va;ue and change it to a new value but fail because tuples are immutable\u001b[39;00m\n\u001b[1;32m      2\u001b[0m myTuple4 \u001b[39m=\u001b[39m \u001b[39m\"\u001b[39m\u001b[39ma\u001b[39m\u001b[39m\"\u001b[39m, \u001b[39m\"\u001b[39m\u001b[39mb\u001b[39m\u001b[39m\"\u001b[39m, \u001b[39m\"\u001b[39m\u001b[39mc\u001b[39m\u001b[39m\"\u001b[39m, \u001b[39m\"\u001b[39m\u001b[39md\u001b[39m\u001b[39m\"\u001b[39m, \u001b[39m\"\u001b[39m\u001b[39me\u001b[39m\u001b[39m\"\u001b[39m\n\u001b[0;32m----> 3\u001b[0m myTuple4[\u001b[39m3\u001b[39;49m] \u001b[39m=\u001b[39m \u001b[39m\"\u001b[39m\u001b[39mo\u001b[39m\u001b[39m\"\u001b[39m \u001b[39m# Attempt to change the third index value to \"o\"\u001b[39;00m\n\u001b[1;32m      4\u001b[0m \u001b[39mprint\u001b[39m(myTuple4) \u001b[39m# Returns and error\u001b[39;00m\n",
      "\u001b[0;31mTypeError\u001b[0m: 'tuple' object does not support item assignment"
     ]
    }
   ],
   "source": [
    "# In this program we create a tuple and assign some elements. then we attempt to take an index with an already assigned va;ue and change it to a new value but fail because tuples are immutable\n",
    "myTuple4 = \"a\", \"b\", \"c\", \"d\", \"e\"\n",
    "myTuple4[3] = \"o\" # Attempt to change the third index value to \"o\"\n",
    "print(myTuple4) # Returns and error"
   ]
  },
  {
   "attachments": {},
   "cell_type": "markdown",
   "metadata": {},
   "source": [
    "#### Iterate over a Tuple"
   ]
  },
  {
   "cell_type": "code",
   "execution_count": 56,
   "metadata": {},
   "outputs": [
    {
     "name": "stdout",
     "output_type": "stream",
     "text": [
      "z\n",
      "x\n",
      "c\n",
      "v\n",
      "b\n",
      "n\n",
      "m\n"
     ]
    }
   ],
   "source": [
    "# Using a for in loop to iterate over a tuple, in this case we just want to print each index value.\n",
    "myTuple5 = 'z', 'x', 'c','v','b','n','m'\n",
    "for i in myTuple5:\n",
    "    print(i)"
   ]
  },
  {
   "attachments": {},
   "cell_type": "markdown",
   "metadata": {},
   "source": [
    "#### Check if Element is in Tuple"
   ]
  },
  {
   "cell_type": "code",
   "execution_count": 57,
   "metadata": {},
   "outputs": [
    {
     "name": "stdout",
     "output_type": "stream",
     "text": [
      "type one lower case letter to see if it is this tuple\n",
      "Your letter 3 is not in this tuple\n"
     ]
    }
   ],
   "source": [
    "# In this program we will be using an if in statement to see if a specific element is in the tuple.\n",
    "myTuple6 = 'r','g','b'\n",
    "\n",
    "userLetter = input(print(\"type one lower case letter to see if it is this tuple\"))\n",
    "\n",
    "if userLetter in myTuple6:\n",
    "    print( userLetter + \" is in this tuple\")\n",
    "else:\n",
    "    print(\"Your letter \" + userLetter + \" is not in this tuple\")"
   ]
  },
  {
   "attachments": {},
   "cell_type": "markdown",
   "metadata": {},
   "source": [
    "#### Retrieving # of elements"
   ]
  },
  {
   "cell_type": "code",
   "execution_count": null,
   "metadata": {},
   "outputs": [
    {
     "ename": "",
     "evalue": "",
     "output_type": "error",
     "traceback": [
      "\u001b[1;31mRunning cells with '/bin/python3' requires the ipykernel package.\n",
      "\u001b[1;31mRun the following command to install 'ipykernel' into the Python environment. \n",
      "\u001b[1;31mCommand: '/bin/python3 -m pip install ipykernel -U --user --force-reinstall'"
     ]
    }
   ],
   "source": [
    "#This program will create a tuple will various characters then we will use the len function to retrieve the size of the tuple\n",
    "myTuple7 = 'a', 'b', 'c', 'd', 'e', 'f'\n",
    "print(len(myTuple7))\n"
   ]
  },
  {
   "attachments": {},
   "cell_type": "markdown",
   "metadata": {},
   "source": [
    "#### Count Instances of an Element"
   ]
  },
  {
   "cell_type": "code",
   "execution_count": null,
   "metadata": {},
   "outputs": [
    {
     "ename": "",
     "evalue": "",
     "output_type": "error",
     "traceback": [
      "\u001b[1;31mRunning cells with '/bin/python3' requires the ipykernel package.\n",
      "\u001b[1;31mRun the following command to install 'ipykernel' into the Python environment. \n",
      "\u001b[1;31mCommand: '/bin/python3 -m pip install ipykernel -U --user --force-reinstall'"
     ]
    }
   ],
   "source": [
    "# This program will use the count function to see how many times a user input value occurs in the tuple 3 times then sum the instances for each element and print it as the score.\n",
    "    \n",
    "myTuple8 =  'a', 'a', 'b', 'c', 'd', 'd', 'e', 'f', 'f', 'g', 'g', 'g', 'h', 'i', 'j', 'k', 'l', 'l', 'm', 'n', 'o', 'p', 'p', 'q', 'q', 'r', 'r', 'r', 'r', 's', 't', 'u', 'v', 'w', 'w', 'x', 'y', 'y', 'z', 'z'\n",
    "score = 0\n",
    "attemptNumber = 0\n",
    "while attemptNumber < 3:\n",
    "    \n",
    "    userCharacter = input(print(\"enter a letter for which you would like to see the number of instances that occur in this tuple\"))\n",
    "    attemptNumber += 1\n",
    "    print(\"your character \" + str(userCharacter) + \" is in this tuple \" + str(myTuple8.count(userCharacter)) + \" times.\")\n",
    "\n",
    "    score += int(myTuple8.count(userCharacter))\n",
    "\n",
    "\n",
    "\n",
    "print(\"your score is \" + str(score)) "
   ]
  },
  {
   "attachments": {},
   "cell_type": "markdown",
   "metadata": {},
   "source": [
    "#### Index of a Element"
   ]
  },
  {
   "cell_type": "code",
   "execution_count": null,
   "metadata": {},
   "outputs": [
    {
     "ename": "",
     "evalue": "",
     "output_type": "error",
     "traceback": [
      "\u001b[1;31mRunning cells with '/bin/python3' requires the ipykernel package.\n",
      "\u001b[1;31mRun the following command to install 'ipykernel' into the Python environment. \n",
      "\u001b[1;31mCommand: '/bin/python3 -m pip install ipykernel -U --user --force-reinstall'"
     ]
    }
   ],
   "source": [
    "# In this program we use the .index method to retrieve the location of an element based on its literal \n",
    "myTuple9 = \"Sprite\", \"Coke\", \"Fanta\"\n",
    "print(myTuple9.index(\"Fanta\"))"
   ]
  },
  {
   "attachments": {},
   "cell_type": "markdown",
   "metadata": {},
   "source": [
    "#### Tuple to a List, & Back\n"
   ]
  },
  {
   "cell_type": "code",
   "execution_count": null,
   "metadata": {},
   "outputs": [
    {
     "ename": "",
     "evalue": "",
     "output_type": "error",
     "traceback": [
      "\u001b[1;31mRunning cells with '/bin/python3' requires the ipykernel package.\n",
      "\u001b[1;31mRun the following command to install 'ipykernel' into the Python environment. \n",
      "\u001b[1;31mCommand: '/bin/python3 -m pip install ipykernel -U --user --force-reinstall'"
     ]
    }
   ],
   "source": [
    "# In this program we create a unique list and tuple, then convert the list into a tuple by passing it though the tuple function, and convert the tuple into a list by passing it through the list function\n",
    "myTuple10 = (1,2,3,2,1)\n",
    "mySecondList10 = [9,9,8,7,6]\n",
    "\n",
    "print(\"This is myTuple10 converted from Tuple --> List \" + str(list(myTuple10)))\n",
    "print(\"This is my mySecondList10 converted from List --> Tuple \" + str(tuple(mySecondList10)))"
   ]
  },
  {
   "attachments": {},
   "cell_type": "markdown",
   "metadata": {},
   "source": [
    "#### Slicing to Access Subparts using Colon"
   ]
  },
  {
   "cell_type": "code",
   "execution_count": null,
   "metadata": {},
   "outputs": [
    {
     "ename": "",
     "evalue": "",
     "output_type": "error",
     "traceback": [
      "\u001b[1;31mRunning cells with '/bin/python3' requires the ipykernel package.\n",
      "\u001b[1;31mRun the following command to install 'ipykernel' into the Python environment. \n",
      "\u001b[1;31mCommand: '/bin/python3 -m pip install ipykernel -U --user --force-reinstall'"
     ]
    }
   ],
   "source": [
    "# In this program we use a colon to pass in a beginning and end parameter in brackets.\n",
    "myTuple11 = ( 1, 2, 3, 4, 5, 5, 6, 6, 7, 7, 8, 4, 3, 2, 11, 1, 2, 3, 4, 5, 69, 6, 4, 33, 2, 3)\n",
    "indexTuple11 = myTuple11[-6] #for 1 specific value\n",
    "print(indexTuple11)\n",
    "\n",
    "indexTuple11 = myTuple11[:-6] # From 0 to to the negative 6th index value, which is 69, so from being to 69 still going forward. \n",
    "print(indexTuple11)\n",
    "\n"
   ]
  },
  {
   "attachments": {},
   "cell_type": "markdown",
   "metadata": {},
   "source": [
    "#### Step\n"
   ]
  },
  {
   "cell_type": "code",
   "execution_count": null,
   "metadata": {},
   "outputs": [
    {
     "ename": "",
     "evalue": "",
     "output_type": "error",
     "traceback": [
      "\u001b[1;31mRunning cells with '/bin/python3' requires the ipykernel package.\n",
      "\u001b[1;31mRun the following command to install 'ipykernel' into the Python environment. \n",
      "\u001b[1;31mCommand: '/bin/python3 -m pip install ipykernel -U --user --force-reinstall'"
     ]
    }
   ],
   "source": [
    "# We can also pass a second colon, creating another place we can fill a parameter in, which in this case creates \"step\"\n",
    "myTuple12 = (1,2,3,4,4,4,4,3,2,2,2,1,1,2,2,2,3,3,4,4,4,4,5,5,5,6,6,6,7,)\n",
    "print(myTuple12[::3]) # If you pass -1 as the step, you can reverse your tuple"
   ]
  },
  {
   "attachments": {},
   "cell_type": "markdown",
   "metadata": {},
   "source": [
    "#### Unpacking a Tuple"
   ]
  },
  {
   "cell_type": "code",
   "execution_count": null,
   "metadata": {},
   "outputs": [
    {
     "ename": "",
     "evalue": "",
     "output_type": "error",
     "traceback": [
      "\u001b[1;31mRunning cells with '/bin/python3' requires the ipykernel package.\n",
      "\u001b[1;31mRun the following command to install 'ipykernel' into the Python environment. \n",
      "\u001b[1;31mCommand: '/bin/python3 -m pip install ipykernel -U --user --force-reinstall'"
     ]
    }
   ],
   "source": [
    "# This is cool. Turns out you can basically assign variables to the indices of a Tuple. This allows you to \"unpack\" The elements.\n",
    "myTuple13 = \"max\", 28, \"Boston\",\n",
    "\n",
    "# The number number of created variables must match the number of elements in the tuple\n",
    "name, age, city = myTuple13\n",
    "print(name)\n",
    "print(age)\n",
    "print(city)"
   ]
  },
  {
   "attachments": {},
   "cell_type": "markdown",
   "metadata": {},
   "source": [
    "#### Unpacking Multiple Elements Using *"
   ]
  },
  {
   "cell_type": "code",
   "execution_count": null,
   "metadata": {},
   "outputs": [
    {
     "ename": "",
     "evalue": "",
     "output_type": "error",
     "traceback": [
      "\u001b[1;31mRunning cells with '/bin/python3' requires the ipykernel package.\n",
      "\u001b[1;31mRun the following command to install 'ipykernel' into the Python environment. \n",
      "\u001b[1;31mCommand: '/bin/python3 -m pip install ipykernel -U --user --force-reinstall'"
     ]
    }
   ],
   "source": [
    "# You can unpack the tuple, by again creating your variables and separating them by commas on the other side of the equal sign, but include a '*' in front of your second variable\n",
    "\n",
    "myTuple14 = (\"Iphone 3\", \"Iphone 4\", \"Iphone 5\", \"Iphone 6\", \"Iphone 7\", \"Iphone 8\", \"Iphone x\", \"Iphone 11\", \"Iphone 12\", \"Iphone 13\", \"Iphone 14\")\n",
    "i1, *i2, i3 = myTuple14\n",
    "\n",
    "print(i1) # very first item\n",
    "print(i3) # very last item\n",
    "print(i2) # all the elements in between"
   ]
  },
  {
   "attachments": {},
   "cell_type": "markdown",
   "metadata": {},
   "source": [
    "#### Comparing Tuples and Lists"
   ]
  },
  {
   "cell_type": "code",
   "execution_count": null,
   "metadata": {},
   "outputs": [
    {
     "ename": "",
     "evalue": "",
     "output_type": "error",
     "traceback": [
      "\u001b[1;31mRunning cells with '/bin/python3' requires the ipykernel package.\n",
      "\u001b[1;31mRun the following command to install 'ipykernel' into the Python environment. \n",
      "\u001b[1;31mCommand: '/bin/python3 -m pip install ipykernel -U --user --force-reinstall'"
     ]
    }
   ],
   "source": [
    "# This program uses the sys module built into python to help show the difference between a list and tuple size\n",
    "\n",
    "my_Tuple = (0, 1, 2, \"hello\", True)\n",
    "my_List = [0, 1, 2, \"hello\", True]\n",
    "\n",
    "print(\"Tuple Version: \" + str(sys.getsizeof(my_Tuple)), \"bytes\")\n",
    "print(\"List Version: \" + str(sys.getsizeof(my_List)), \"bytes\")\n",
    "\n",
    "\n"
   ]
  },
  {
   "attachments": {},
   "cell_type": "markdown",
   "metadata": {},
   "source": [
    "#### Speed: Tuple vs List"
   ]
  },
  {
   "cell_type": "code",
   "execution_count": null,
   "metadata": {},
   "outputs": [
    {
     "ename": "",
     "evalue": "",
     "output_type": "error",
     "traceback": [
      "\u001b[1;31mRunning cells with '/bin/python3' requires the ipykernel package.\n",
      "\u001b[1;31mRun the following command to install 'ipykernel' into the Python environment. \n",
      "\u001b[1;31mCommand: '/bin/python3 -m pip install ipykernel -U --user --force-reinstall'"
     ]
    }
   ],
   "source": [
    "# We are going to create two statements then repeat each one 1,000,000 times and use the timeit module to measure efficiency\n",
    "print(timeit.timeit(stmt=\"[0, 1, 2, 3, 4, 5]\", number=1000000))\n",
    "print(timeit.timeit(stmt=\"(0, 1, 2, 3, 4, 5)\", number=1000000))\n"
   ]
  },
  {
   "attachments": {},
   "cell_type": "markdown",
   "metadata": {},
   "source": [
    "# Dictionary\n",
    "Is a collection data type that is unordered and mutable, it consists of a collection of key value pairs so each key value pair maps to its associated value.\n",
    "Keys may be anything as long as they are immutable. The value may be anything."
   ]
  },
  {
   "attachments": {},
   "cell_type": "markdown",
   "metadata": {},
   "source": [
    "#### Creating a dictionary"
   ]
  },
  {
   "cell_type": "code",
   "execution_count": null,
   "metadata": {},
   "outputs": [
    {
     "ename": "",
     "evalue": "",
     "output_type": "error",
     "traceback": [
      "\u001b[1;31mRunning cells with '/bin/python3' requires the ipykernel package.\n",
      "\u001b[1;31mRun the following command to install 'ipykernel' into the Python environment. \n",
      "\u001b[1;31mCommand: '/bin/python3 -m pip install ipykernel -U --user --force-reinstall'"
     ]
    }
   ],
   "source": [
    "# In this program we use braces {} assigned to a variable name to create a dictionary\n",
    "myDict1 = {\"city\":\"Night City\", \"planet\": \"Earth\", \"year\": 2023} # Every pair is separated by a colon\n",
    "print(myDict1)"
   ]
  },
  {
   "attachments": {},
   "cell_type": "markdown",
   "metadata": {},
   "source": [
    "#### Creating Dictionary Using the Function"
   ]
  },
  {
   "cell_type": "code",
   "execution_count": null,
   "metadata": {},
   "outputs": [
    {
     "ename": "",
     "evalue": "",
     "output_type": "error",
     "traceback": [
      "\u001b[1;31mRunning cells with '/bin/python3' requires the ipykernel package.\n",
      "\u001b[1;31mRun the following command to install 'ipykernel' into the Python environment. \n",
      "\u001b[1;31mCommand: '/bin/python3 -m pip install ipykernel -U --user --force-reinstall'"
     ]
    }
   ],
   "source": [
    "# In this program we passed all our variables and there assignments through the dict function and assigned it to myDict2 to create our dictionary \n",
    "myDict2 = dict(city2 = \"LA\", planet2 = \"mars\", year2 = 2113)\n",
    "print(myDict2)"
   ]
  },
  {
   "attachments": {},
   "cell_type": "markdown",
   "metadata": {},
   "source": [
    "#### How weird can dictionaries get?"
   ]
  },
  {
   "cell_type": "code",
   "execution_count": null,
   "metadata": {},
   "outputs": [
    {
     "ename": "",
     "evalue": "",
     "output_type": "error",
     "traceback": [
      "\u001b[1;31mRunning cells with '/bin/python3' requires the ipykernel package.\n",
      "\u001b[1;31mRun the following command to install 'ipykernel' into the Python environment. \n",
      "\u001b[1;31mCommand: '/bin/python3 -m pip install ipykernel -U --user --force-reinstall'"
     ]
    }
   ],
   "source": [
    "# Turns out dictionaries are very capable.\n",
    "import torch\n",
    "userInputVariable = input(\"please enter a integer\")\n",
    "myCrazyDict1 = dict(item1 = ((1,2,3,4,5,6), (1,2,3,2,1 ), (2,3,4,5,5,3), (23,4,1,3,4,5,)), item2 = \"pumpkin\", item3 = userInputVariable, item4 = True, item5 = torch.rand(3,3))\n",
    "print(myCrazyDict1[\"item3\"])"
   ]
  },
  {
   "attachments": {},
   "cell_type": "markdown",
   "metadata": {},
   "source": [
    "#### Adding an Item"
   ]
  },
  {
   "cell_type": "code",
   "execution_count": null,
   "metadata": {},
   "outputs": [
    {
     "ename": "",
     "evalue": "",
     "output_type": "error",
     "traceback": [
      "\u001b[1;31mRunning cells with '/bin/python3' requires the ipykernel package.\n",
      "\u001b[1;31mRun the following command to install 'ipykernel' into the Python environment. \n",
      "\u001b[1;31mCommand: '/bin/python3 -m pip install ipykernel -U --user --force-reinstall'"
     ]
    }
   ],
   "source": [
    "# In this program we create and establish a dictionary, then we add an item to that dictionary.\n",
    "myDict3 = dict(book1 = \"Hunger games\", book2 = \"Harry Potter\", book3 = \"Atomic Habits\")\n",
    "myDict3[\"book4\"] = \"Lord of the Rings\" # Here is where we add the item book4\n",
    "print(myDict3)"
   ]
  },
  {
   "attachments": {},
   "cell_type": "markdown",
   "metadata": {},
   "source": [
    "#### Deleting an Item"
   ]
  },
  {
   "cell_type": "code",
   "execution_count": null,
   "metadata": {},
   "outputs": [
    {
     "ename": "",
     "evalue": "",
     "output_type": "error",
     "traceback": [
      "\u001b[1;31mRunning cells with '/bin/python3' requires the ipykernel package.\n",
      "\u001b[1;31mRun the following command to install 'ipykernel' into the Python environment. \n",
      "\u001b[1;31mCommand: '/bin/python3 -m pip install ipykernel -U --user --force-reinstall'"
     ]
    }
   ],
   "source": [
    "# in this program we use the del function to delete one of the items in the myDict4\n",
    "myDict4 = dict(house1 = \"2300sq\", house2 = \"3010sq\", house3 = \"2800sq\")\n",
    "del(myDict4[\"house1\"])\n",
    "print(myDict4)"
   ]
  },
  {
   "attachments": {},
   "cell_type": "markdown",
   "metadata": {},
   "source": [
    "#### The Pop Method"
   ]
  },
  {
   "cell_type": "code",
   "execution_count": null,
   "metadata": {},
   "outputs": [
    {
     "ename": "",
     "evalue": "",
     "output_type": "error",
     "traceback": [
      "\u001b[1;31mRunning cells with '/bin/python3' requires the ipykernel package.\n",
      "\u001b[1;31mRun the following command to install 'ipykernel' into the Python environment. \n",
      "\u001b[1;31mCommand: '/bin/python3 -m pip install ipykernel -U --user --force-reinstall'"
     ]
    }
   ],
   "source": [
    "# In this case we called the pop method to remove fish3 from the dictionary below.\n",
    "myDict5 = dict(fish1 = \"Salmon\", fish2 = \"Tuna\", fish3 = \"Cod\" , fish4 = \"Trout\")\n",
    "myDict5.pop(\"fish3\")\n",
    "print(myDict5)"
   ]
  },
  {
   "attachments": {},
   "cell_type": "markdown",
   "metadata": {},
   "source": [
    "#### Pop Item"
   ]
  },
  {
   "cell_type": "code",
   "execution_count": null,
   "metadata": {},
   "outputs": [
    {
     "ename": "",
     "evalue": "",
     "output_type": "error",
     "traceback": [
      "\u001b[1;31mRunning cells with '/bin/python3' requires the ipykernel package.\n",
      "\u001b[1;31mRun the following command to install 'ipykernel' into the Python environment. \n",
      "\u001b[1;31mCommand: '/bin/python3 -m pip install ipykernel -U --user --force-reinstall'"
     ]
    }
   ],
   "source": [
    "# Calling the popitem method removes the last value in the dictionary.\n",
    "myDict6 = dict(planet1 = \"far\", planet2 = \"Little bit further\", planet3 = \"seriously not that far\", planet4 = \"way to fricken far\")\n",
    "myDict6.popitem()\n",
    "print(myDict6)"
   ]
  },
  {
   "attachments": {},
   "cell_type": "markdown",
   "metadata": {},
   "source": [
    "#### Using if to Find Key in Dict"
   ]
  },
  {
   "cell_type": "code",
   "execution_count": null,
   "metadata": {},
   "outputs": [
    {
     "ename": "",
     "evalue": "",
     "output_type": "error",
     "traceback": [
      "\u001b[1;31mRunning cells with '/bin/python3' requires the ipykernel package.\n",
      "\u001b[1;31mRun the following command to install 'ipykernel' into the Python environment. \n",
      "\u001b[1;31mCommand: '/bin/python3 -m pip install ipykernel -U --user --force-reinstall'"
     ]
    }
   ],
   "source": [
    "# In this program we use an if statement to check if the variable drink3 in out dictionary. If it is, we append milk as drink 4 if, drink3 is not there we tell it to add drink3\n",
    "myDict7 = dict(drink1 = \"soda\", drink2 = \"water\", drink3 = \"coffee\")\n",
    "if \"drink3\" in myDict7:\n",
    "    myDict7[\"drink4\"] = \"milk\"\n",
    "else:\n",
    "    myDict7[\"drink3\"] = \"coffee\"\n",
    "\n",
    "print(myDict7)\n",
    "    "
   ]
  },
  {
   "cell_type": "code",
   "execution_count": null,
   "metadata": {},
   "outputs": [
    {
     "ename": "",
     "evalue": "",
     "output_type": "error",
     "traceback": [
      "\u001b[1;31mRunning cells with '/bin/python3' requires the ipykernel package.\n",
      "\u001b[1;31mRun the following command to install 'ipykernel' into the Python environment. \n",
      "\u001b[1;31mCommand: '/bin/python3 -m pip install ipykernel -U --user --force-reinstall'"
     ]
    }
   ],
   "source": [
    "# This is actually a simpler version of the previous example.\n",
    "if \"drink2\" in myDict7:\n",
    "    print(myDict7[\"drink2\"])"
   ]
  },
  {
   "attachments": {},
   "cell_type": "markdown",
   "metadata": {},
   "source": [
    "#### Try Statement  "
   ]
  },
  {
   "cell_type": "code",
   "execution_count": null,
   "metadata": {},
   "outputs": [
    {
     "ename": "",
     "evalue": "",
     "output_type": "error",
     "traceback": [
      "\u001b[1;31mRunning cells with '/bin/python3' requires the ipykernel package.\n",
      "\u001b[1;31mRun the following command to install 'ipykernel' into the Python environment. \n",
      "\u001b[1;31mCommand: '/bin/python3 -m pip install ipykernel -U --user --force-reinstall'"
     ]
    }
   ],
   "source": [
    "# This was my attempt at explaining the Try statement which is often used for error handling\n",
    "# The try block will generate a NameError, because x is not defined:\n",
    "\n",
    "try: # here we are telling the code to do what is below.\n",
    "  print(x) # we cant print x because it is not defined.\n",
    "except NameError: # because there is an error possible we create an exception block and call it a name error.\n",
    "  print(\"Variable x is not defined\") # then if we ever get to the exception error, we will just print to let the user know what is the error.\n",
    "except:\n",
    "  print(\"Something else went wrong\") # if this was not the case, then we can present another error.\n"
   ]
  },
  {
   "cell_type": "code",
   "execution_count": null,
   "metadata": {},
   "outputs": [
    {
     "ename": "",
     "evalue": "",
     "output_type": "error",
     "traceback": [
      "\u001b[1;31mRunning cells with '/bin/python3' requires the ipykernel package.\n",
      "\u001b[1;31mRun the following command to install 'ipykernel' into the Python environment. \n",
      "\u001b[1;31mCommand: '/bin/python3 -m pip install ipykernel -U --user --force-reinstall'"
     ]
    }
   ],
   "source": [
    "# Using a try statement within the scope of a dictionary. \n",
    "myDict8 = dict(fruit1 = \"apple\", planet5 = \"venus\")\n",
    "try:\n",
    "    print(myDict8[\"food\"])\n",
    "except:\n",
    "    print(\"sorry there is no key pair in the dictionary that includes 'food'\")"
   ]
  },
  {
   "attachments": {},
   "cell_type": "markdown",
   "metadata": {},
   "source": [
    "#### Using a For-Loop with Dictionaries"
   ]
  },
  {
   "cell_type": "code",
   "execution_count": null,
   "metadata": {},
   "outputs": [
    {
     "ename": "",
     "evalue": "",
     "output_type": "error",
     "traceback": [
      "\u001b[1;31mRunning cells with '/bin/python3' requires the ipykernel package.\n",
      "\u001b[1;31mRun the following command to install 'ipykernel' into the Python environment. \n",
      "\u001b[1;31mCommand: '/bin/python3 -m pip install ipykernel -U --user --force-reinstall'"
     ]
    }
   ],
   "source": [
    "# Here we use a for loop to print the keys in myDict9\n",
    "myDict9 =  dict(name1 = \"Rob\", name2 = \"Bob\", name3 = \"Toby\", name4 = \"Arnold\", name5 = \"Greg\")\n",
    "for i in myDict9:\n",
    "    print(i)"
   ]
  },
  {
   "attachments": {},
   "cell_type": "markdown",
   "metadata": {},
   "source": [
    "#### .Keys method"
   ]
  },
  {
   "cell_type": "code",
   "execution_count": null,
   "metadata": {
    "tags": [
     "Pink"
    ]
   },
   "outputs": [
    {
     "ename": "",
     "evalue": "",
     "output_type": "error",
     "traceback": [
      "\u001b[1;31mRunning cells with '/bin/python3' requires the ipykernel package.\n",
      "\u001b[1;31mRun the following command to install 'ipykernel' into the Python environment. \n",
      "\u001b[1;31mCommand: '/bin/python3 -m pip install ipykernel -U --user --force-reinstall'"
     ]
    }
   ],
   "source": [
    "# The keys method, returns a list of all the keys inside it. To be honest, i dont know what .keys does, it out puts the same.\n",
    "for i in myDict9.keys():\n",
    "    print(i)"
   ]
  },
  {
   "attachments": {},
   "cell_type": "markdown",
   "metadata": {},
   "source": [
    "#### Looping over the values"
   ]
  },
  {
   "cell_type": "code",
   "execution_count": null,
   "metadata": {},
   "outputs": [
    {
     "ename": "",
     "evalue": "",
     "output_type": "error",
     "traceback": [
      "\u001b[1;31mRunning cells with '/bin/python3' requires the ipykernel package.\n",
      "\u001b[1;31mRun the following command to install 'ipykernel' into the Python environment. \n",
      "\u001b[1;31mCommand: '/bin/python3 -m pip install ipykernel -U --user --force-reinstall'"
     ]
    }
   ],
   "source": [
    "# here were are simply using a for loop o print the values of each key\n",
    "for values in myDict9.values():\n",
    "    print(values)"
   ]
  },
  {
   "attachments": {},
   "cell_type": "markdown",
   "metadata": {},
   "source": [
    "#### Retrieving both keys and values"
   ]
  },
  {
   "cell_type": "code",
   "execution_count": null,
   "metadata": {},
   "outputs": [
    {
     "ename": "",
     "evalue": "",
     "output_type": "error",
     "traceback": [
      "\u001b[1;31mRunning cells with '/bin/python3' requires the ipykernel package.\n",
      "\u001b[1;31mRun the following command to install 'ipykernel' into the Python environment. \n",
      "\u001b[1;31mCommand: '/bin/python3 -m pip install ipykernel -U --user --force-reinstall'"
     ]
    }
   ],
   "source": [
    "for values, keys in myDict9.items():\n",
    "    print(values + \" : \" + keys)"
   ]
  },
  {
   "attachments": {},
   "cell_type": "markdown",
   "metadata": {},
   "source": [
    "#### Copying Dictionaries"
   ]
  },
  {
   "cell_type": "code",
   "execution_count": null,
   "metadata": {},
   "outputs": [
    {
     "ename": "",
     "evalue": "",
     "output_type": "error",
     "traceback": [
      "\u001b[1;31mRunning cells with '/bin/python3' requires the ipykernel package.\n",
      "\u001b[1;31mRun the following command to install 'ipykernel' into the Python environment. \n",
      "\u001b[1;31mCommand: '/bin/python3 -m pip install ipykernel -U --user --force-reinstall'"
     ]
    }
   ],
   "source": [
    "# If you assign new variable to a perviously declared dictionary, we dont actually create a copy of the dictionary. Instead the new variables just refers back to the same memory.\n",
    "# we can use the .copy method to create a copy located in different memory.\n",
    "\n",
    "myDict10 = dict(berry1 = \"grape\", berry2 = \"black berry\", berry3 = \"blue berry\")\n",
    "\n",
    "myDict11 = myDict10.copy() \n",
    "\n",
    "myDict11[\"berry4\"] =  \"strawberry\"\n",
    "myDict11[\"berry5\"] =  \"cherry\"\n",
    "\n",
    "print(\"This is our original dictionary\" + str(myDict10))\n",
    "print(\"This is our appended dictionary\" + str(myDict11))"
   ]
  },
  {
   "cell_type": "code",
   "execution_count": null,
   "metadata": {},
   "outputs": [
    {
     "ename": "",
     "evalue": "",
     "output_type": "error",
     "traceback": [
      "\u001b[1;31mRunning cells with '/bin/python3' requires the ipykernel package.\n",
      "\u001b[1;31mRun the following command to install 'ipykernel' into the Python environment. \n",
      "\u001b[1;31mCommand: '/bin/python3 -m pip install ipykernel -U --user --force-reinstall'"
     ]
    }
   ],
   "source": [
    "# We can also use the dict function to create a copy of a dictionary.\n",
    "print(\"This is myDict11 \" + str(myDict11))\n",
    "myDict12 = dict(myDict11) # we create a copy using dict of myDict11\n",
    "myDict12[\"berry6\"] = \"huckleberry\"\n",
    "myDict12[\"berry7\"] = \"raspberry\"\n",
    "print(\"This is the copied and added to dictionary \" + str(myDict12))\n"
   ]
  },
  {
   "attachments": {},
   "cell_type": "markdown",
   "metadata": {},
   "source": [
    "#### Merging 2 Different Dictionaries "
   ]
  },
  {
   "cell_type": "code",
   "execution_count": null,
   "metadata": {},
   "outputs": [
    {
     "ename": "",
     "evalue": "",
     "output_type": "error",
     "traceback": [
      "\u001b[1;31mRunning cells with '/bin/python3' requires the ipykernel package.\n",
      "\u001b[1;31mRun the following command to install 'ipykernel' into the Python environment. \n",
      "\u001b[1;31mCommand: '/bin/python3 -m pip install ipykernel -U --user --force-reinstall'"
     ]
    }
   ],
   "source": [
    "# In this program we create 2 dictionaries then merge them into the the second one and print the results.\n",
    "myDict13 = {\"name\":\"Max\", \"age\":28, \"email\":\"max@xyz.com\"}\n",
    "myDict14 = dict(name=\"Mary\", age=27, city=\"Boston\")\n",
    "\n",
    "myDict14.update(myDict13)\n",
    "print(myDict14)\n",
    "\n",
    "# we replaced the common key pairs with the ones from MyDict 13 with the ones from myDict14 | age, name. We also added combined values in the first dictionary that might not have existed in one but not the other dictionary."
   ]
  },
  {
   "attachments": {},
   "cell_type": "markdown",
   "metadata": {},
   "source": [
    "#### Possible Key Types"
   ]
  },
  {
   "cell_type": "code",
   "execution_count": null,
   "metadata": {},
   "outputs": [
    {
     "ename": "",
     "evalue": "",
     "output_type": "error",
     "traceback": [
      "\u001b[1;31mRunning cells with '/bin/python3' requires the ipykernel package.\n",
      "\u001b[1;31mRun the following command to install 'ipykernel' into the Python environment. \n",
      "\u001b[1;31mCommand: '/bin/python3 -m pip install ipykernel -U --user --force-reinstall'"
     ]
    }
   ],
   "source": [
    "# Here is another dictionary with many different possibilities as keys and values\n",
    "myDict15 = {3 : 9, True : \"dinosaur\", \"weewoo\" : 13,}\n",
    "print(myDict15)"
   ]
  },
  {
   "cell_type": "code",
   "execution_count": null,
   "metadata": {},
   "outputs": [
    {
     "ename": "",
     "evalue": "",
     "output_type": "error",
     "traceback": [
      "\u001b[1;31mRunning cells with '/bin/python3' requires the ipykernel package.\n",
      "\u001b[1;31mRun the following command to install 'ipykernel' into the Python environment. \n",
      "\u001b[1;31mCommand: '/bin/python3 -m pip install ipykernel -U --user --force-reinstall'"
     ]
    }
   ],
   "source": [
    "# You can also insert a tuple as a key. \n",
    "myDict16 = {3: 9, 6: 36, 9: 81}\n",
    "print(myDict16)\n",
    "myTuple = (8, 7)\n",
    "myDict17 = {myTuple: 15}\n",
    "print (myDict17)"
   ]
  },
  {
   "attachments": {},
   "cell_type": "markdown",
   "metadata": {},
   "source": [
    "#### cant use a list as a key"
   ]
  },
  {
   "cell_type": "code",
   "execution_count": null,
   "metadata": {},
   "outputs": [
    {
     "ename": "",
     "evalue": "",
     "output_type": "error",
     "traceback": [
      "\u001b[1;31mRunning cells with '/bin/python3' requires the ipykernel package.\n",
      "\u001b[1;31mRun the following command to install 'ipykernel' into the Python environment. \n",
      "\u001b[1;31mCommand: '/bin/python3 -m pip install ipykernel -U --user --force-reinstall'"
     ]
    }
   ],
   "source": [
    "# You can also insert a tuple as a key. \n",
    "myDict16 = {3: 9, 6: 36, 9: 81}\n",
    "print(myDict16)\n",
    "myList = [8, 7] # In this version of te code we turned the tuple into a list\n",
    "myDict17 = {myList: 15}\n",
    "print (myDict17)"
   ]
  },
  {
   "attachments": {},
   "cell_type": "markdown",
   "metadata": {},
   "source": [
    "# Sets\n",
    "A set is a collection data type that is unordered, and mutable, but unlike lists or tuples, a set does not allow duplicates."
   ]
  },
  {
   "attachments": {},
   "cell_type": "markdown",
   "metadata": {},
   "source": [
    "#### Creating a set"
   ]
  },
  {
   "cell_type": "code",
   "execution_count": null,
   "metadata": {},
   "outputs": [
    {
     "ename": "",
     "evalue": "",
     "output_type": "error",
     "traceback": [
      "\u001b[1;31mRunning cells with '/bin/python3' requires the ipykernel package.\n",
      "\u001b[1;31mRun the following command to install 'ipykernel' into the Python environment. \n",
      "\u001b[1;31mCommand: '/bin/python3 -m pip install ipykernel -U --user --force-reinstall'"
     ]
    }
   ],
   "source": [
    "# To create a set, it is similar to a creating a dictionary, however because there are no key pairs, there are no colon, therefore just values separated by commas.\n",
    "mySet1 = {1,2,3}\n",
    "print(mySet1)\n",
    "print(type(mySet1))"
   ]
  },
  {
   "attachments": {},
   "cell_type": "markdown",
   "metadata": {},
   "source": [
    "#### No Duplicates"
   ]
  },
  {
   "cell_type": "code",
   "execution_count": null,
   "metadata": {},
   "outputs": [
    {
     "ename": "",
     "evalue": "",
     "output_type": "error",
     "traceback": [
      "\u001b[1;31mRunning cells with '/bin/python3' requires the ipykernel package.\n",
      "\u001b[1;31mRun the following command to install 'ipykernel' into the Python environment. \n",
      "\u001b[1;31mCommand: '/bin/python3 -m pip install ipykernel -U --user --force-reinstall'"
     ]
    }
   ],
   "source": [
    "# Even when we print the set below (which has plenty of of duplicates), we dont get any duplicate values back.\n",
    "mySet2 = {1,2,3,4,5,5,4,3,4,3,}\n",
    "print(mySet2)"
   ]
  },
  {
   "attachments": {},
   "cell_type": "markdown",
   "metadata": {},
   "source": [
    "#### Using the Set Function"
   ]
  },
  {
   "cell_type": "code",
   "execution_count": null,
   "metadata": {},
   "outputs": [
    {
     "ename": "",
     "evalue": "",
     "output_type": "error",
     "traceback": [
      "\u001b[1;31mRunning cells with '/bin/python3' requires the ipykernel package.\n",
      "\u001b[1;31mRun the following command to install 'ipykernel' into the Python environment. \n",
      "\u001b[1;31mCommand: '/bin/python3 -m pip install ipykernel -U --user --force-reinstall'"
     ]
    }
   ],
   "source": [
    "mySet3 = set([1,2,3])\n",
    "print(mySet3)"
   ]
  },
  {
   "attachments": {},
   "cell_type": "markdown",
   "metadata": {},
   "source": [
    "#### Passing a string through"
   ]
  },
  {
   "cell_type": "code",
   "execution_count": null,
   "metadata": {},
   "outputs": [
    {
     "ename": "",
     "evalue": "",
     "output_type": "error",
     "traceback": [
      "\u001b[1;31mRunning cells with '/bin/python3' requires the ipykernel package.\n",
      "\u001b[1;31mRun the following command to install 'ipykernel' into the Python environment. \n",
      "\u001b[1;31mCommand: '/bin/python3 -m pip install ipykernel -U --user --force-reinstall'"
     ]
    }
   ],
   "source": [
    "# In this program we pass \"strawberry\" through as the set function, and we notice our output is unordered and does't contain duplicates\n",
    "mySet4 = set(\"strawberry\")\n",
    "print(mySet4)"
   ]
  },
  {
   "attachments": {},
   "cell_type": "markdown",
   "metadata": {},
   "source": [
    "#### Creating an Empty Set\n",
    "mySet = {} Creates a dictionary not an empty set"
   ]
  },
  {
   "cell_type": "code",
   "execution_count": null,
   "metadata": {},
   "outputs": [
    {
     "ename": "",
     "evalue": "",
     "output_type": "error",
     "traceback": [
      "\u001b[1;31mRunning cells with '/bin/python3' requires the ipykernel package.\n",
      "\u001b[1;31mRun the following command to install 'ipykernel' into the Python environment. \n",
      "\u001b[1;31mCommand: '/bin/python3 -m pip install ipykernel -U --user --force-reinstall'"
     ]
    }
   ],
   "source": [
    "# In this program we will use the set function to create an empty set\n",
    "mySet5 = set()\n",
    "print(mySet5)\n",
    "print(type(mySet5))"
   ]
  },
  {
   "attachments": {},
   "cell_type": "markdown",
   "metadata": {},
   "source": [
    "#### Adding Elements to a Set"
   ]
  },
  {
   "cell_type": "code",
   "execution_count": null,
   "metadata": {},
   "outputs": [
    {
     "ename": "",
     "evalue": "",
     "output_type": "error",
     "traceback": [
      "\u001b[1;31mRunning cells with '/bin/python3' requires the ipykernel package.\n",
      "\u001b[1;31mRun the following command to install 'ipykernel' into the Python environment. \n",
      "\u001b[1;31mCommand: '/bin/python3 -m pip install ipykernel -U --user --force-reinstall'"
     ]
    }
   ],
   "source": [
    "# In this program we create and empty set, then call the .add method to append values\n",
    "mySet6 = set()\n",
    "mySet6.add(1)\n",
    "mySet6.add(2)\n",
    "mySet6.add(3)\n",
    "print(mySet6)"
   ]
  },
  {
   "attachments": {},
   "cell_type": "markdown",
   "metadata": {},
   "source": [
    "#### Removing Elements"
   ]
  },
  {
   "cell_type": "code",
   "execution_count": null,
   "metadata": {},
   "outputs": [
    {
     "ename": "",
     "evalue": "",
     "output_type": "error",
     "traceback": [
      "\u001b[1;31mRunning cells with '/bin/python3' requires the ipykernel package.\n",
      "\u001b[1;31mRun the following command to install 'ipykernel' into the Python environment. \n",
      "\u001b[1;31mCommand: '/bin/python3 -m pip install ipykernel -U --user --force-reinstall'"
     ]
    }
   ],
   "source": [
    "# In this program we use the .remove method to remove values from the set.\n",
    "# NOTICE how we are using {} instead of the set() function to create out set. So it turns if you enclose all our comma separated values in set() function, the set() function expects an iterable as an argument, such as a list, tuple or a string, but you have provided individual arguments instead. To fix this, you should pass the elements as an iterable, for example by enclosing them in square brackets [] creating a list, which is iterable \n",
    "mySet7 = {1, 2, 3, 324, 234, 213}\n",
    "mySet7.remove(1) # note that if you try to remove an element that is not in the set, you will raise a key error.\n",
    "mySet7.remove(2) \n",
    "mySet7.remove(3) \n",
    "\n",
    "print(mySet7)"
   ]
  },
  {
   "attachments": {},
   "cell_type": "markdown",
   "metadata": {},
   "source": [
    "#### Discard method"
   ]
  },
  {
   "cell_type": "code",
   "execution_count": null,
   "metadata": {},
   "outputs": [
    {
     "ename": "",
     "evalue": "",
     "output_type": "error",
     "traceback": [
      "\u001b[1;31mRunning cells with '/bin/python3' requires the ipykernel package.\n",
      "\u001b[1;31mRun the following command to install 'ipykernel' into the Python environment. \n",
      "\u001b[1;31mCommand: '/bin/python3 -m pip install ipykernel -U --user --force-reinstall'"
     ]
    }
   ],
   "source": [
    "# In this program we will use the discard method to remove an element from mySet8\n",
    "mySet8 = {1,2,3,4,5,6,7}\n",
    "mySet8.discard(2)\n",
    "mySet8.discard(8) # NOTE when passing a value that doesn't exist through discard, it doesn't through up an error\n",
    "print(mySet8)"
   ]
  },
  {
   "attachments": {},
   "cell_type": "markdown",
   "metadata": {},
   "source": [
    "#### Clear Method"
   ]
  },
  {
   "cell_type": "code",
   "execution_count": null,
   "metadata": {},
   "outputs": [
    {
     "ename": "",
     "evalue": "",
     "output_type": "error",
     "traceback": [
      "\u001b[1;31mRunning cells with '/bin/python3' requires the ipykernel package.\n",
      "\u001b[1;31mRun the following command to install 'ipykernel' into the Python environment. \n",
      "\u001b[1;31mCommand: '/bin/python3 -m pip install ipykernel -U --user --force-reinstall'"
     ]
    }
   ],
   "source": [
    "# In this program we will call the .clear method to wipe the entirety of mySet8 list\n",
    "mySet9 = {1,2,3,4,4,5,6,7}\n",
    "mySet9.clear()\n",
    "print(mySet9)\n"
   ]
  },
  {
   "attachments": {},
   "cell_type": "markdown",
   "metadata": {},
   "source": [
    "#### Pop Method"
   ]
  },
  {
   "cell_type": "code",
   "execution_count": null,
   "metadata": {},
   "outputs": [
    {
     "ename": "",
     "evalue": "",
     "output_type": "error",
     "traceback": [
      "\u001b[1;31mRunning cells with '/bin/python3' requires the ipykernel package.\n",
      "\u001b[1;31mRun the following command to install 'ipykernel' into the Python environment. \n",
      "\u001b[1;31mCommand: '/bin/python3 -m pip install ipykernel -U --user --force-reinstall'"
     ]
    }
   ],
   "source": [
    "# In this program we use the pop method to remove a random item from the set, then return the item that it removed from the set. (all done by the pop method)\n",
    "mySet10 = {1,2,3,4,5,6,7,8}\n",
    "mySet10.pop()\n",
    "print(mySet10)"
   ]
  },
  {
   "attachments": {},
   "cell_type": "markdown",
   "metadata": {},
   "source": [
    "#### Iterating Over a Set"
   ]
  },
  {
   "cell_type": "code",
   "execution_count": null,
   "metadata": {},
   "outputs": [
    {
     "ename": "",
     "evalue": "",
     "output_type": "error",
     "traceback": [
      "\u001b[1;31mRunning cells with '/bin/python3' requires the ipykernel package.\n",
      "\u001b[1;31mRun the following command to install 'ipykernel' into the Python environment. \n",
      "\u001b[1;31mCommand: '/bin/python3 -m pip install ipykernel -U --user --force-reinstall'"
     ]
    }
   ],
   "source": [
    "# In this program we use a for loop to check each index (i) in mySet11 and for each one we print the value\n",
    "mySet11 = {1,2,3,4,5,6,7,64,12,14}\n",
    "for i in mySet11:\n",
    "    print(i)"
   ]
  },
  {
   "attachments": {},
   "cell_type": "markdown",
   "metadata": {},
   "source": [
    "#### Check if an element is in a set"
   ]
  },
  {
   "cell_type": "code",
   "execution_count": null,
   "metadata": {},
   "outputs": [
    {
     "ename": "",
     "evalue": "",
     "output_type": "error",
     "traceback": [
      "\u001b[1;31mRunning cells with '/bin/python3' requires the ipykernel package.\n",
      "\u001b[1;31mRun the following command to install 'ipykernel' into the Python environment. \n",
      "\u001b[1;31mCommand: '/bin/python3 -m pip install ipykernel -U --user --force-reinstall'"
     ]
    }
   ],
   "source": [
    "# in this program, we use check to see if our string \"hello\" is in the set and if it is, we go ahead and clear it.\n",
    "mySet12 = {1,2,3,4,5,\"hello\",21,11}\n",
    "if \"hello\" in mySet12:\n",
    "    mySet12.clear()\n",
    "    print(mySet12)"
   ]
  },
  {
   "attachments": {},
   "cell_type": "markdown",
   "metadata": {},
   "source": [
    "#### Union\n",
    "Union: adds two sets together without including duplicates."
   ]
  },
  {
   "cell_type": "code",
   "execution_count": null,
   "metadata": {},
   "outputs": [
    {
     "ename": "",
     "evalue": "",
     "output_type": "error",
     "traceback": [
      "\u001b[1;31mRunning cells with '/bin/python3' requires the ipykernel package.\n",
      "\u001b[1;31mRun the following command to install 'ipykernel' into the Python environment. \n",
      "\u001b[1;31mCommand: '/bin/python3 -m pip install ipykernel -U --user --force-reinstall'"
     ]
    }
   ],
   "source": [
    "# In this program we use the union method on oddSet and pass the evenSet through, so we can combine the sets without add any more duplicates\n",
    "oddSet = {1, 3, 5, 7, 9}\n",
    "evenSet = {0, 2, 4, 6, 8}\n",
    "\n",
    "newSet1 = oddSet.union(evenSet)\n",
    "print(newSet1)"
   ]
  },
  {
   "attachments": {},
   "cell_type": "markdown",
   "metadata": {},
   "source": [
    "#### Intersection "
   ]
  },
  {
   "cell_type": "code",
   "execution_count": null,
   "metadata": {},
   "outputs": [
    {
     "ename": "",
     "evalue": "",
     "output_type": "error",
     "traceback": [
      "\u001b[1;31mRunning cells with '/bin/python3' requires the ipykernel package.\n",
      "\u001b[1;31mRun the following command to install 'ipykernel' into the Python environment. \n",
      "\u001b[1;31mCommand: '/bin/python3 -m pip install ipykernel -U --user --force-reinstall'"
     ]
    }
   ],
   "source": [
    "# In this program, we use the intersection method, on primeSet and pass through the oddSet from our previous program as the argument. We will now obtain all the values that both sets have in common\n",
    "primeSet = {2,3,5,7}\n",
    "print(primeSet.intersection(oddSet))"
   ]
  },
  {
   "attachments": {},
   "cell_type": "markdown",
   "metadata": {},
   "source": [
    "#### Calculating the Difference"
   ]
  },
  {
   "cell_type": "code",
   "execution_count": null,
   "metadata": {},
   "outputs": [
    {
     "ename": "",
     "evalue": "",
     "output_type": "error",
     "traceback": [
      "\u001b[1;31mRunning cells with '/bin/python3' requires the ipykernel package.\n",
      "\u001b[1;31mRun the following command to install 'ipykernel' into the Python environment. \n",
      "\u001b[1;31mCommand: '/bin/python3 -m pip install ipykernel -U --user --force-reinstall'"
     ]
    }
   ],
   "source": [
    "# In this program, we use the difference method on mySet13 and pass in mySet14 as the argument, so we can return all the values from mySet13 that are not in mySet14\n",
    "mySet13 = {-1,1, 2, 3, 4, 5, 6, 7, 8, 9}\n",
    "mySet14 = {1, 2, 3, 10, 11, 12}\n",
    "\n",
    "print(mySet13.difference(mySet14))"
   ]
  },
  {
   "attachments": {},
   "cell_type": "markdown",
   "metadata": {},
   "source": [
    "#### symmetric_difference"
   ]
  },
  {
   "cell_type": "code",
   "execution_count": null,
   "metadata": {},
   "outputs": [
    {
     "ename": "",
     "evalue": "",
     "output_type": "error",
     "traceback": [
      "\u001b[1;31mRunning cells with '/bin/python3' requires the ipykernel package.\n",
      "\u001b[1;31mRun the following command to install 'ipykernel' into the Python environment. \n",
      "\u001b[1;31mCommand: '/bin/python3 -m pip install ipykernel -U --user --force-reinstall'"
     ]
    }
   ],
   "source": [
    "# In this program we use the symmetric_difference to find the uncommon values and return them using the print function.\n",
    "mySet15 = {1,2,3,33,44,55}\n",
    "print(mySet15.symmetric_difference(mySet14)) \n",
    "print(mySet15) # note how they don't modify the set, only create a new one. We can still print mySet15 after we used the symmetric_difference\n"
   ]
  },
  {
   "attachments": {},
   "cell_type": "markdown",
   "metadata": {},
   "source": [
    "#### The update method"
   ]
  },
  {
   "cell_type": "code",
   "execution_count": null,
   "metadata": {},
   "outputs": [
    {
     "ename": "",
     "evalue": "",
     "output_type": "error",
     "traceback": [
      "\u001b[1;31mRunning cells with '/bin/python3' requires the ipykernel package.\n",
      "\u001b[1;31mRun the following command to install 'ipykernel' into the Python environment. \n",
      "\u001b[1;31mCommand: '/bin/python3 -m pip install ipykernel -U --user --force-reinstall'"
     ]
    }
   ],
   "source": [
    "#### The update method updates a a set by adding elements found in the set that is passed through as the argument. (Again not including duplicates, because sets dont allow for duplicates)\n",
    "mySet16 = {1,2,3,4,5,6,7,99}\n",
    "mySet17 = {1,2,3,100,101,102}\n",
    "mySet17.update(mySet16)\n",
    "print(mySet17)\n"
   ]
  },
  {
   "attachments": {},
   "cell_type": "markdown",
   "metadata": {},
   "source": [
    "#### intersection_update method\n",
    "this method only keeps the elements found in both sets"
   ]
  },
  {
   "cell_type": "code",
   "execution_count": null,
   "metadata": {},
   "outputs": [
    {
     "ename": "",
     "evalue": "",
     "output_type": "error",
     "traceback": [
      "\u001b[1;31mRunning cells with '/bin/python3' requires the ipykernel package.\n",
      "\u001b[1;31mRun the following command to install 'ipykernel' into the Python environment. \n",
      "\u001b[1;31mCommand: '/bin/python3 -m pip install ipykernel -U --user --force-reinstall'"
     ]
    }
   ],
   "source": [
    "# In this program we use the intersection_update method on mySet18 and pass in mySet19 as the argument so we can find what elements do both sets have in common\n",
    "mySet18 = {-1,1,2,3,4,5,6,7,99}\n",
    "mySet19 = {-3,-2,-1,1,2,3,100,101,102}\n",
    "\n",
    "mySet19.intersection_update(mySet18)\n",
    "print(mySet19)"
   ]
  },
  {
   "attachments": {},
   "cell_type": "markdown",
   "metadata": {},
   "source": [
    "#### The difference_update method"
   ]
  },
  {
   "cell_type": "code",
   "execution_count": null,
   "metadata": {},
   "outputs": [
    {
     "ename": "",
     "evalue": "",
     "output_type": "error",
     "traceback": [
      "\u001b[1;31mRunning cells with '/bin/python3' requires the ipykernel package.\n",
      "\u001b[1;31mRun the following command to install 'ipykernel' into the Python environment. \n",
      "\u001b[1;31mCommand: '/bin/python3 -m pip install ipykernel -U --user --force-reinstall'"
     ]
    }
   ],
   "source": [
    "# This program will use the difference_update method on mySet21 and pass mySet20 as the argument so we can return all the values from the set we called the method on, except the values that are in common with the set we passed through as the argument.\n",
    "mySet20 = {1,2,3,4,5,55,66,77,88,99}\n",
    "mySet21 = {\"hello\", \"hi\", 1,3,4,88,99,-1,-2}\n",
    "\n",
    "mySet21.difference_update(mySet20)\n",
    "print(mySet21)"
   ]
  },
  {
   "attachments": {},
   "cell_type": "markdown",
   "metadata": {},
   "source": [
    "#### Symmetric_difference_update"
   ]
  },
  {
   "cell_type": "code",
   "execution_count": null,
   "metadata": {},
   "outputs": [
    {
     "ename": "",
     "evalue": "",
     "output_type": "error",
     "traceback": [
      "\u001b[1;31mRunning cells with '/bin/python3' requires the ipykernel package.\n",
      "\u001b[1;31mRun the following command to install 'ipykernel' into the Python environment. \n",
      "\u001b[1;31mCommand: '/bin/python3 -m pip install ipykernel -U --user --force-reinstall'"
     ]
    }
   ],
   "source": [
    "# In this program we call the symmetric_difference_update method for mySet23, and pass mySet22 as the argument, so we can retrieve all the elements that not only found in our first set, but also can be found in our second set. This does not just return both elements.\n",
    "mySet22 = {-3,-2,-1,1,2,3,4,5,6,7,\"h1\", \"h2\", True}\n",
    "mySet23 = {-99,-84,-69,-1,5,6,7, \"h2\",\"h3\",False}\n",
    "\n",
    "mySet23.symmetric_difference_update(mySet22)\n",
    "print(mySet23)"
   ]
  },
  {
   "attachments": {},
   "cell_type": "markdown",
   "metadata": {},
   "source": [
    "#### Sub set"
   ]
  },
  {
   "cell_type": "code",
   "execution_count": null,
   "metadata": {},
   "outputs": [
    {
     "ename": "",
     "evalue": "",
     "output_type": "error",
     "traceback": [
      "\u001b[1;31mRunning cells with '/bin/python3' requires the ipykernel package.\n",
      "\u001b[1;31mRun the following command to install 'ipykernel' into the Python environment. \n",
      "\u001b[1;31mCommand: '/bin/python3 -m pip install ipykernel -U --user --force-reinstall'"
     ]
    }
   ],
   "source": [
    "# In this program we call the \"issubset\" method for mySet24 and pass mySet25 as the argument. This will return true or false whether all the values from mySet24 are in mySet25\n",
    "mySet24 = {1,2,3,4,5,6,7}\n",
    "mySet25 = {1,2,3}\n",
    "\n",
    "print(mySet24.issubset(mySet25)) # This is checking whether all elements of mySet24 are in mySet25"
   ]
  },
  {
   "attachments": {},
   "cell_type": "markdown",
   "metadata": {},
   "source": [
    "#### Super set"
   ]
  },
  {
   "cell_type": "code",
   "execution_count": null,
   "metadata": {},
   "outputs": [
    {
     "ename": "",
     "evalue": "",
     "output_type": "error",
     "traceback": [
      "\u001b[1;31mRunning cells with '/bin/python3' requires the ipykernel package.\n",
      "\u001b[1;31mRun the following command to install 'ipykernel' into the Python environment. \n",
      "\u001b[1;31mCommand: '/bin/python3 -m pip install ipykernel -U --user --force-reinstall'"
     ]
    }
   ],
   "source": [
    "# In this program we call the \"issuperset\" method for mySet26 and pass mySet27 as the argument. This will return true or false whether all the values from mySet27 are in mySet26\n",
    "mySet26 = {1,2,3,4,5,6,7}\n",
    "mySet27 = {1,2,3}\n",
    "\n",
    "print(mySet26.issuperset(mySet27))"
   ]
  },
  {
   "attachments": {},
   "cell_type": "markdown",
   "metadata": {},
   "source": [
    "#### How to find if two sets have no commonalities"
   ]
  },
  {
   "cell_type": "code",
   "execution_count": null,
   "metadata": {},
   "outputs": [
    {
     "ename": "",
     "evalue": "",
     "output_type": "error",
     "traceback": [
      "\u001b[1;31mRunning cells with '/bin/python3' requires the ipykernel package.\n",
      "\u001b[1;31mRun the following command to install 'ipykernel' into the Python environment. \n",
      "\u001b[1;31mCommand: '/bin/python3 -m pip install ipykernel -U --user --force-reinstall'"
     ]
    }
   ],
   "source": [
    "# in this program we call the \"isdisjoint\" method on any of the sets below and pass another set in as the argument, so we can determine wether the two set are completely different or not. If it output is true, It means non of the elements are similar in you two sets\n",
    "mySet28 = {0,1,2,3,4,5,6,7,8,9}\n",
    "mySet29 = {-6,-5,-4,-3,-2,-1,0,1,2,3,4,5}\n",
    "mySet30 = {\"hi\", \"hello\", \"hey\"}\n",
    "print(mySet28.isdisjoint(mySet30))\n"
   ]
  },
  {
   "attachments": {},
   "cell_type": "markdown",
   "metadata": {},
   "source": [
    "#### Copying Sets"
   ]
  },
  {
   "cell_type": "code",
   "execution_count": null,
   "metadata": {},
   "outputs": [
    {
     "ename": "",
     "evalue": "",
     "output_type": "error",
     "traceback": [
      "\u001b[1;31mRunning cells with '/bin/python3' requires the ipykernel package.\n",
      "\u001b[1;31mRun the following command to install 'ipykernel' into the Python environment. \n",
      "\u001b[1;31mCommand: '/bin/python3 -m pip install ipykernel -U --user --force-reinstall'"
     ]
    }
   ],
   "source": [
    "# In this program we show how to properly create a copy of another set using the .copy() method\n",
    "mySet31 = {\"red\", \"green\", \" blues\", \"orange\", \"purple\"}\n",
    "mySet32 = mySet31.copy() #32 is the coppied set\n",
    "mySet31.add(\"yellow\") # making changes to the original set\n",
    "print(\"This is the copy of the original set:\\n\" + str(mySet32))\n",
    "print(\"This is the original set that we modified to include yellow:\\n\" + str(mySet31))"
   ]
  },
  {
   "attachments": {},
   "cell_type": "markdown",
   "metadata": {},
   "source": [
    "#### Frozen set\n",
    "NOTE:  A frozen set is just an immutable version of a normal set."
   ]
  },
  {
   "cell_type": "code",
   "execution_count": null,
   "metadata": {},
   "outputs": [
    {
     "ename": "",
     "evalue": "",
     "output_type": "error",
     "traceback": [
      "\u001b[1;31mRunning cells with '/bin/python3' requires the ipykernel package.\n",
      "\u001b[1;31mRun the following command to install 'ipykernel' into the Python environment. \n",
      "\u001b[1;31mCommand: '/bin/python3 -m pip install ipykernel -U --user --force-reinstall'"
     ]
    }
   ],
   "source": [
    "# In this program we use the frozenset method to make he set immutable and you will notice and error thrown out claiming the object has no attribute add when trying tO introduce a new element.\n",
    "mySet33 = {'name1', 'name2', 'name3', 'name4'}\n",
    "mySet34 = frozenset(mySet33)\n",
    "mySet34.add(\"name5\") # Not just the add method, but so does every other update, or methods that mutate the set dont work. YOU CAN STILL USE UNION AND DISJOINT AND STUFF\n",
    "print(mySet34)"
   ]
  },
  {
   "attachments": {},
   "cell_type": "markdown",
   "metadata": {},
   "source": [
    "# Strings\n",
    "A string is an ordered and immutable collection data type that is used for text representation"
   ]
  },
  {
   "attachments": {},
   "cell_type": "markdown",
   "metadata": {},
   "source": [
    "#### Creating a string"
   ]
  },
  {
   "cell_type": "code",
   "execution_count": null,
   "metadata": {},
   "outputs": [
    {
     "ename": "",
     "evalue": "",
     "output_type": "error",
     "traceback": [
      "\u001b[1;31mRunning cells with '/bin/python3' requires the ipykernel package.\n",
      "\u001b[1;31mRun the following command to install 'ipykernel' into the Python environment. \n",
      "\u001b[1;31mCommand: '/bin/python3 -m pip install ipykernel -U --user --force-reinstall'"
     ]
    }
   ],
   "source": [
    "# Single quotation marks used to create a string\n",
    "myString1 = 'hello world'\n",
    "print(myString1)"
   ]
  },
  {
   "attachments": {},
   "cell_type": "markdown",
   "metadata": {},
   "source": [
    "#### How to Use Single or Double Quotes Inside a String"
   ]
  },
  {
   "cell_type": "code",
   "execution_count": null,
   "metadata": {},
   "outputs": [
    {
     "ename": "",
     "evalue": "",
     "output_type": "error",
     "traceback": [
      "\u001b[1;31mRunning cells with '/bin/python3' requires the ipykernel package.\n",
      "\u001b[1;31mRun the following command to install 'ipykernel' into the Python environment. \n",
      "\u001b[1;31mCommand: '/bin/python3 -m pip install ipykernel -U --user --force-reinstall'"
     ]
    }
   ],
   "source": [
    "# Single quotation mark inside a string created using single quotes\n",
    "myString2 = 'I\\'m a programmer'\n",
    "print(myString2)"
   ]
  },
  {
   "cell_type": "code",
   "execution_count": null,
   "metadata": {},
   "outputs": [
    {
     "ename": "",
     "evalue": "",
     "output_type": "error",
     "traceback": [
      "\u001b[1;31mRunning cells with '/bin/python3' requires the ipykernel package.\n",
      "\u001b[1;31mRun the following command to install 'ipykernel' into the Python environment. \n",
      "\u001b[1;31mCommand: '/bin/python3 -m pip install ipykernel -U --user --force-reinstall'"
     ]
    }
   ],
   "source": [
    "# Double quotation marks used to create a string\n",
    "myString3 = \"It's all Cool\"\n",
    "print(myString3)"
   ]
  },
  {
   "cell_type": "code",
   "execution_count": null,
   "metadata": {},
   "outputs": [
    {
     "ename": "",
     "evalue": "",
     "output_type": "error",
     "traceback": [
      "\u001b[1;31mRunning cells with '/bin/python3' requires the ipykernel package.\n",
      "\u001b[1;31mRun the following command to install 'ipykernel' into the Python environment. \n",
      "\u001b[1;31mCommand: '/bin/python3 -m pip install ipykernel -U --user --force-reinstall'"
     ]
    }
   ],
   "source": [
    "# Double quotation marks inside a string created using double quotes\n",
    "myString4 = \"\\\"This is a quote inside of a string\\\"\"\n",
    "print(myString4)"
   ]
  },
  {
   "cell_type": "code",
   "execution_count": null,
   "metadata": {},
   "outputs": [
    {
     "ename": "",
     "evalue": "",
     "output_type": "error",
     "traceback": [
      "\u001b[1;31mRunning cells with '/bin/python3' requires the ipykernel package.\n",
      "\u001b[1;31mRun the following command to install 'ipykernel' into the Python environment. \n",
      "\u001b[1;31mCommand: '/bin/python3 -m pip install ipykernel -U --user --force-reinstall'"
     ]
    }
   ],
   "source": [
    "# Triple double quotes on both sides of a string allows you to create multi line strings. (use a back slash to disregard newline capability) \n",
    "myString5 = \"\"\"This is typically used for multi-line strings. As an example, this string is on line 2,\n",
    "and on line 3 and when it is printed, it will be printed like its written on the two lines. If I continue writing on this line \\\n",
    "then move down one more, but i included a back slash right before the newline started it will disregard the new line in print\"\"\"\n",
    "print(myString5) "
   ]
  },
  {
   "attachments": {},
   "cell_type": "markdown",
   "metadata": {},
   "source": [
    "#### Accessing characters\n"
   ]
  },
  {
   "cell_type": "code",
   "execution_count": null,
   "metadata": {},
   "outputs": [
    {
     "ename": "",
     "evalue": "",
     "output_type": "error",
     "traceback": [
      "\u001b[1;31mRunning cells with '/bin/python3' requires the ipykernel package.\n",
      "\u001b[1;31mRun the following command to install 'ipykernel' into the Python environment. \n",
      "\u001b[1;31mCommand: '/bin/python3 -m pip install ipykernel -U --user --force-reinstall'"
     ]
    }
   ],
   "source": [
    "# In this program, we take myString6 and use brackets to return a single index we want to assign to a new variable, then print it.\n",
    "myString6 = \"What do you want to do after school\"\n",
    "myString6Char = myString6[-12] # Same rules from list apply [start:end:step]\n",
    "\n",
    "print(myString6Char)\n"
   ]
  },
  {
   "attachments": {},
   "cell_type": "markdown",
   "metadata": {},
   "source": [
    "#### Sub String"
   ]
  },
  {
   "cell_type": "code",
   "execution_count": null,
   "metadata": {},
   "outputs": [
    {
     "ename": "",
     "evalue": "",
     "output_type": "error",
     "traceback": [
      "\u001b[1;31mRunning cells with '/bin/python3' requires the ipykernel package.\n",
      "\u001b[1;31mRun the following command to install 'ipykernel' into the Python environment. \n",
      "\u001b[1;31mCommand: '/bin/python3 -m pip install ipykernel -U --user --force-reinstall'"
     ]
    }
   ],
   "source": [
    "# In this program, we take myString6 and use brackets to return a range of indices we want to assign to a new variable, then print it.\n",
    "myString7 = \"Well what do we have in common?. Not much sadly\"\n",
    "mySubString7 = myString7[-14:]\n",
    "print(mySubString7)"
   ]
  },
  {
   "attachments": {},
   "cell_type": "markdown",
   "metadata": {},
   "source": [
    "#### Immutability  "
   ]
  },
  {
   "cell_type": "code",
   "execution_count": null,
   "metadata": {},
   "outputs": [
    {
     "ename": "",
     "evalue": "",
     "output_type": "error",
     "traceback": [
      "\u001b[1;31mRunning cells with '/bin/python3' requires the ipykernel package.\n",
      "\u001b[1;31mRun the following command to install 'ipykernel' into the Python environment. \n",
      "\u001b[1;31mCommand: '/bin/python3 -m pip install ipykernel -U --user --force-reinstall'"
     ]
    }
   ],
   "source": [
    "# Here we try previous methods of mutating a string and when running the code we receive an error because this is not allowed\n",
    "myString8 = \" Hello world\"\n",
    "myString8[0] = 'y'\n",
    "print(myString8)"
   ]
  },
  {
   "attachments": {},
   "cell_type": "markdown",
   "metadata": {},
   "source": [
    "#### Reversing a string"
   ]
  },
  {
   "cell_type": "code",
   "execution_count": null,
   "metadata": {},
   "outputs": [
    {
     "ename": "",
     "evalue": "",
     "output_type": "error",
     "traceback": [
      "\u001b[1;31mRunning cells with '/bin/python3' requires the ipykernel package.\n",
      "\u001b[1;31mRun the following command to install 'ipykernel' into the Python environment. \n",
      "\u001b[1;31mCommand: '/bin/python3 -m pip install ipykernel -U --user --force-reinstall'"
     ]
    }
   ],
   "source": [
    "# In this program we use the step argument to reverse the string then print it.\n",
    "myString9 =  \"esimorp I ,sdrawkcab daer eb nac siht\"\n",
    "myStringReversed = myString9[::-1]\n",
    "print(myStringReversed)"
   ]
  },
  {
   "attachments": {},
   "cell_type": "markdown",
   "metadata": {},
   "source": [
    "#### Combining Strings"
   ]
  },
  {
   "cell_type": "code",
   "execution_count": null,
   "metadata": {},
   "outputs": [
    {
     "ename": "",
     "evalue": "",
     "output_type": "error",
     "traceback": [
      "\u001b[1;31mRunning cells with '/bin/python3' requires the ipykernel package.\n",
      "\u001b[1;31mRun the following command to install 'ipykernel' into the Python environment. \n",
      "\u001b[1;31mCommand: '/bin/python3 -m pip install ipykernel -U --user --force-reinstall'"
     ]
    }
   ],
   "source": [
    "# In this program we assign two different strings to their own variables, then use pluses to combine them and assign them to a new variable then print it.\n",
    "myString10 = \"The I said what do you mean.\"\n",
    "MyString11 = \"Then I said goodbye.\"\n",
    "\n",
    "myString10andMystring11 = myString10 + \" \" + MyString11 # Notice how we included a \" \" in between the strings because we needed to include a space, other wise the words would be connecting to each other. You could also just include a space after the end of the first string, resulting in one less plus sign.\n",
    "print(myString10andMystring11)"
   ]
  },
  {
   "attachments": {},
   "cell_type": "markdown",
   "metadata": {},
   "source": [
    "#### Iterating over a string"
   ]
  },
  {
   "cell_type": "code",
   "execution_count": null,
   "metadata": {},
   "outputs": [
    {
     "ename": "",
     "evalue": "",
     "output_type": "error",
     "traceback": [
      "\u001b[1;31mRunning cells with '/bin/python3' requires the ipykernel package.\n",
      "\u001b[1;31mRun the following command to install 'ipykernel' into the Python environment. \n",
      "\u001b[1;31mCommand: '/bin/python3 -m pip install ipykernel -U --user --force-reinstall'"
     ]
    }
   ],
   "source": [
    "myString12 = \"This is a string of no meaning and has spaces to separate words that dont convey anything meaningful\"\n",
    "for i in myString12:\n",
    "    print(i)"
   ]
  },
  {
   "attachments": {},
   "cell_type": "markdown",
   "metadata": {},
   "source": [
    "### Check If in String"
   ]
  },
  {
   "cell_type": "code",
   "execution_count": null,
   "metadata": {},
   "outputs": [
    {
     "ename": "",
     "evalue": "",
     "output_type": "error",
     "traceback": [
      "\u001b[1;31mRunning cells with '/bin/python3' requires the ipykernel package.\n",
      "\u001b[1;31mRun the following command to install 'ipykernel' into the Python environment. \n",
      "\u001b[1;31mCommand: '/bin/python3 -m pip install ipykernel -U --user --force-reinstall'"
     ]
    }
   ],
   "source": [
    "myString13 = \"this is my string\"\n",
    "if 'stri' in myString13:\n",
    "    print(\"True\")\n",
    "else:\n",
    "    print(\"false\")"
   ]
  },
  {
   "attachments": {},
   "cell_type": "markdown",
   "metadata": {},
   "source": [
    "### .strip Method"
   ]
  },
  {
   "cell_type": "code",
   "execution_count": null,
   "metadata": {},
   "outputs": [
    {
     "ename": "",
     "evalue": "",
     "output_type": "error",
     "traceback": [
      "\u001b[1;31mRunning cells with '/bin/python3' requires the ipykernel package.\n",
      "\u001b[1;31mRun the following command to install 'ipykernel' into the Python environment. \n",
      "\u001b[1;31mCommand: '/bin/python3 -m pip install ipykernel -U --user --force-reinstall'"
     ]
    }
   ],
   "source": [
    "myString14 = \"            This is a string with a lot of spaces before and after my sentence          \"\n",
    "myStrippedString14 = myString14.strip()\n",
    "print (myStrippedString14)"
   ]
  },
  {
   "attachments": {},
   "cell_type": "markdown",
   "metadata": {},
   "source": [
    "### Return Upper"
   ]
  },
  {
   "cell_type": "code",
   "execution_count": null,
   "metadata": {},
   "outputs": [
    {
     "ename": "",
     "evalue": "",
     "output_type": "error",
     "traceback": [
      "\u001b[1;31mRunning cells with '/bin/python3' requires the ipykernel package.\n",
      "\u001b[1;31mRun the following command to install 'ipykernel' into the Python environment. \n",
      "\u001b[1;31mCommand: '/bin/python3 -m pip install ipykernel -U --user --force-reinstall'"
     ]
    }
   ],
   "source": [
    "myString15 = \"this string originally had only lowercases\"\n",
    "print(myString15.upper())"
   ]
  },
  {
   "attachments": {},
   "cell_type": "markdown",
   "metadata": {},
   "source": [
    "### Return Lower"
   ]
  },
  {
   "cell_type": "code",
   "execution_count": null,
   "metadata": {},
   "outputs": [
    {
     "ename": "",
     "evalue": "",
     "output_type": "error",
     "traceback": [
      "\u001b[1;31mRunning cells with '/bin/python3' requires the ipykernel package.\n",
      "\u001b[1;31mRun the following command to install 'ipykernel' into the Python environment. \n",
      "\u001b[1;31mCommand: '/bin/python3 -m pip install ipykernel -U --user --force-reinstall'"
     ]
    }
   ],
   "source": [
    "myString16 = \"I ORIGINALLY TYPE THIS WITH CAPS LOCK ON\"\n",
    "print(myString16.lower())"
   ]
  },
  {
   "attachments": {},
   "cell_type": "markdown",
   "metadata": {},
   "source": [
    "### .startswith evaluation"
   ]
  },
  {
   "cell_type": "code",
   "execution_count": null,
   "metadata": {},
   "outputs": [
    {
     "ename": "",
     "evalue": "",
     "output_type": "error",
     "traceback": [
      "\u001b[1;31mRunning cells with '/bin/python3' requires the ipykernel package.\n",
      "\u001b[1;31mRun the following command to install 'ipykernel' into the Python environment. \n",
      "\u001b[1;31mCommand: '/bin/python3 -m pip install ipykernel -U --user --force-reinstall'"
     ]
    }
   ],
   "source": [
    "# This program returns a tru or false value depending on what is combination of characters that are being passed in through the method and are check to see if they properly match from the beginning of the index.\n",
    "myString17 = \"This sentence started with the word \\\" This \\\"\"\n",
    "print(myString17)\n",
    "print(myString17.startswith(\"This\"))"
   ]
  },
  {
   "attachments": {},
   "cell_type": "markdown",
   "metadata": {},
   "source": [
    "### .endswith evaluation"
   ]
  },
  {
   "cell_type": "code",
   "execution_count": null,
   "metadata": {},
   "outputs": [
    {
     "ename": "",
     "evalue": "",
     "output_type": "error",
     "traceback": [
      "\u001b[1;31mRunning cells with '/bin/python3' requires the ipykernel package.\n",
      "\u001b[1;31mRun the following command to install 'ipykernel' into the Python environment. \n",
      "\u001b[1;31mCommand: '/bin/python3 -m pip install ipykernel -U --user --force-reinstall'"
     ]
    }
   ],
   "source": [
    "myString18 = \"I made ths sentence end with the word pirate\"\n",
    "print(myString18.endswith(\"pirate\"))"
   ]
  },
  {
   "attachments": {},
   "cell_type": "markdown",
   "metadata": {},
   "source": [
    "### .find method"
   ]
  },
  {
   "cell_type": "code",
   "execution_count": null,
   "metadata": {},
   "outputs": [
    {
     "ename": "",
     "evalue": "",
     "output_type": "error",
     "traceback": [
      "\u001b[1;31mRunning cells with '/bin/python3' requires the ipykernel package.\n",
      "\u001b[1;31mRun the following command to install 'ipykernel' into the Python environment. \n",
      "\u001b[1;31mCommand: '/bin/python3 -m pip install ipykernel -U --user --force-reinstall'"
     ]
    }
   ],
   "source": [
    "# you can use the .find method to locate substrings or characters\n",
    "# The method only finds the index value of the first character it matches to the string being checked\n",
    "# Checking for Sub strings returns the index value for when that sub string starts in the main string\n",
    "\n",
    "myString19 = \"what letter are we going to find in this sentence?\"\n",
    "print(myString19.find(\"e\"))"
   ]
  },
  {
   "attachments": {},
   "cell_type": "markdown",
   "metadata": {},
   "source": [
    "### .count the characters"
   ]
  },
  {
   "cell_type": "code",
   "execution_count": null,
   "metadata": {},
   "outputs": [
    {
     "ename": "",
     "evalue": "",
     "output_type": "error",
     "traceback": [
      "\u001b[1;31mRunning cells with '/bin/python3' requires the ipykernel package.\n",
      "\u001b[1;31mRun the following command to install 'ipykernel' into the Python environment. \n",
      "\u001b[1;31mCommand: '/bin/python3 -m pip install ipykernel -U --user --force-reinstall'"
     ]
    }
   ],
   "source": [
    "myString20 = \" This is string that has contains the letter \\\"g\\\" 2 time(s)\"\n",
    "print(myString20.count('s'))"
   ]
  },
  {
   "attachments": {},
   "cell_type": "markdown",
   "metadata": {},
   "source": [
    "### .replace Method"
   ]
  },
  {
   "cell_type": "code",
   "execution_count": null,
   "metadata": {},
   "outputs": [
    {
     "ename": "",
     "evalue": "",
     "output_type": "error",
     "traceback": [
      "\u001b[1;31mRunning cells with '/bin/python3' requires the ipykernel package.\n",
      "\u001b[1;31mRun the following command to install 'ipykernel' into the Python environment. \n",
      "\u001b[1;31mCommand: '/bin/python3 -m pip install ipykernel -U --user --force-reinstall'"
     ]
    }
   ],
   "source": [
    "\n",
    "# If the characters you are passing through the method, the variable will remain unchanged\n",
    "myString21 = \"This chair sucks\"\n",
    "myString22 = myString21.replace(\"sucks\", \"is uncomfortable\")\n",
    "print(myString22)"
   ]
  },
  {
   "attachments": {},
   "cell_type": "markdown",
   "metadata": {},
   "source": [
    "### .split method"
   ]
  },
  {
   "cell_type": "code",
   "execution_count": null,
   "metadata": {},
   "outputs": [
    {
     "ename": "",
     "evalue": "",
     "output_type": "error",
     "traceback": [
      "\u001b[1;31mRunning cells with '/bin/python3' requires the ipykernel package.\n",
      "\u001b[1;31mRun the following command to install 'ipykernel' into the Python environment. \n",
      "\u001b[1;31mCommand: '/bin/python3 -m pip install ipykernel -U --user --force-reinstall'"
     ]
    }
   ],
   "source": [
    "\n",
    "# By default the method will split up the words based off the spaces but can be changed to split based on something else if specified within the argument.\n",
    "myString23 = \"This is a string that will get split up\"\n",
    "myListOfASplitString = myString23.split()\n",
    "print(myListOfASplitString)"
   ]
  },
  {
   "attachments": {},
   "cell_type": "markdown",
   "metadata": {},
   "source": [
    "### .join method"
   ]
  },
  {
   "cell_type": "code",
   "execution_count": null,
   "metadata": {},
   "outputs": [
    {
     "ename": "",
     "evalue": "",
     "output_type": "error",
     "traceback": [
      "\u001b[1;31mRunning cells with '/bin/python3' requires the ipykernel package.\n",
      "\u001b[1;31mRun the following command to install 'ipykernel' into the Python environment. \n",
      "\u001b[1;31mCommand: '/bin/python3 -m pip install ipykernel -U --user --force-reinstall'"
     ]
    }
   ],
   "source": [
    "myString24 = ' '.join(myListOfASplitString) # Notice how we created an empty string then used the .join method. Changing what in the empty string will change what is in between the components\n",
    "print(myString24)\n"
   ]
  },
  {
   "attachments": {},
   "cell_type": "markdown",
   "metadata": {},
   "source": [
    "### list to string"
   ]
  },
  {
   "cell_type": "code",
   "execution_count": null,
   "metadata": {},
   "outputs": [
    {
     "ename": "",
     "evalue": "",
     "output_type": "error",
     "traceback": [
      "\u001b[1;31mRunning cells with '/bin/python3' requires the ipykernel package.\n",
      "\u001b[1;31mRun the following command to install 'ipykernel' into the Python environment. \n",
      "\u001b[1;31mCommand: '/bin/python3 -m pip install ipykernel -U --user --force-reinstall'"
     ]
    }
   ],
   "source": [
    "myListBeforeString = ['perry the platypus '] * 8\n",
    "myString25 = ''.join(myListBeforeString)\n",
    "print(myString25)"
   ]
  },
  {
   "attachments": {},
   "cell_type": "markdown",
   "metadata": {},
   "source": [
    "### f strings"
   ]
  },
  {
   "cell_type": "code",
   "execution_count": null,
   "metadata": {},
   "outputs": [
    {
     "ename": "",
     "evalue": "",
     "output_type": "error",
     "traceback": [
      "\u001b[1;31mRunning cells with '/bin/python3' requires the ipykernel package.\n",
      "\u001b[1;31mRun the following command to install 'ipykernel' into the Python environment. \n",
      "\u001b[1;31mCommand: '/bin/python3 -m pip install ipykernel -U --user --force-reinstall'"
     ]
    }
   ],
   "source": [
    "myFStringVar = 44\n",
    "print(f\"I am {int(myFStringVar / 2)} years old\")"
   ]
  },
  {
   "attachments": {},
   "cell_type": "markdown",
   "metadata": {},
   "source": [
    "# Collections\n",
    "The collections module imports special container data types and provides some alternatives with additional functionality.  \n",
    "collections: Counter, named tuple, Ordered Dict, defaultdict, deque.\n",
    "You have to import these from from the collections module"
   ]
  },
  {
   "cell_type": "code",
   "execution_count": null,
   "metadata": {},
   "outputs": [
    {
     "ename": "",
     "evalue": "",
     "output_type": "error",
     "traceback": [
      "\u001b[1;31mRunning cells with '/bin/python3' requires the ipykernel package.\n",
      "\u001b[1;31mRun the following command to install 'ipykernel' into the Python environment. \n",
      "\u001b[1;31mCommand: '/bin/python3 -m pip install ipykernel -U --user --force-reinstall'"
     ]
    }
   ],
   "source": [
    "#import the neccissary packages\n",
    "from collections import Counter"
   ]
  },
  {
   "attachments": {},
   "cell_type": "markdown",
   "metadata": {},
   "source": [
    "## counter\n",
    "This function allows you to pass a string in and in return you will obtain a dictionary where all the the characters become keys and the number of occurances becomes the value assigned to the key"
   ]
  },
  {
   "cell_type": "code",
   "execution_count": null,
   "metadata": {},
   "outputs": [
    {
     "ename": "",
     "evalue": "",
     "output_type": "error",
     "traceback": [
      "\u001b[1;31mRunning cells with '/bin/python3' requires the ipykernel package.\n",
      "\u001b[1;31mRun the following command to install 'ipykernel' into the Python environment. \n",
      "\u001b[1;31mCommand: '/bin/python3 -m pip install ipykernel -U --user --force-reinstall'"
     ]
    }
   ],
   "source": [
    "a = \"aaaaaabbbbbccc\"\n",
    "myCounter1 = Counter(a)\n",
    "print(myCounter1) #myCounter1.keys() will return just the keys,  myCOunter1.items() will just return the items from the dictionary, myCounter1.values() will return values.\n"
   ]
  },
  {
   "attachments": {},
   "cell_type": "markdown",
   "metadata": {},
   "source": [
    "#### most common"
   ]
  },
  {
   "cell_type": "code",
   "execution_count": null,
   "metadata": {},
   "outputs": [
    {
     "ename": "",
     "evalue": "",
     "output_type": "error",
     "traceback": [
      "\u001b[1;31mRunning cells with '/bin/python3' requires the ipykernel package.\n",
      "\u001b[1;31mRun the following command to install 'ipykernel' into the Python environment. \n",
      "\u001b[1;31mCommand: '/bin/python3 -m pip install ipykernel -U --user --force-reinstall'"
     ]
    }
   ],
   "source": [
    "print(myCounter1.most_common(1)) # the integer value you pass in .most_common's argument allows you to return multiple most commons. Perhaps the top two most common."
   ]
  },
  {
   "attachments": {},
   "cell_type": "markdown",
   "metadata": {},
   "source": [
    "# Itertools\n",
    "\n",
    "Itertools is a collection of tools that allows us to use iterators in a fast and memory efficient way\n",
    "consist of: product, permutations, combinations, accumulate, groupby, and infinite iterators"
   ]
  },
  {
   "attachments": {},
   "cell_type": "markdown",
   "metadata": {},
   "source": [
    "#### Product"
   ]
  },
  {
   "cell_type": "code",
   "execution_count": 19,
   "metadata": {},
   "outputs": [],
   "source": [
    "from itertools import product, permutations, combinations, accumulate, groupby"
   ]
  },
  {
   "attachments": {},
   "cell_type": "markdown",
   "metadata": {},
   "source": [
    "#### Cross product"
   ]
  },
  {
   "cell_type": "code",
   "execution_count": 11,
   "metadata": {},
   "outputs": [
    {
     "name": "stdout",
     "output_type": "stream",
     "text": [
      "<itertools.product object at 0x7ff506662840>\n",
      "[(1, 3), (1, 4), (2, 3), (2, 4)]\n"
     ]
    }
   ],
   "source": [
    "# This is how you compute the cartesian (cross) product for two list\n",
    "a = [1, 2]\n",
    "b = [3, 4]\n",
    "prod = product(a,b)\n",
    "print(prod) # This will return a memory address\n",
    "print(list(prod)) # if you want to see the actual value you convert it into a list"
   ]
  },
  {
   "cell_type": "code",
   "execution_count": 12,
   "metadata": {},
   "outputs": [
    {
     "name": "stdout",
     "output_type": "stream",
     "text": [
      "[(1, 3, 1, 3), (1, 3, 2, 3), (2, 3, 1, 3), (2, 3, 2, 3)]\n"
     ]
    }
   ],
   "source": [
    "# This is how you compute the cartesian (cross) product for two list\n",
    "a = [1, 2]\n",
    "b = [3]\n",
    "prod = product(a,b, repeat=2)\n",
    "print(list(prod))"
   ]
  },
  {
   "attachments": {},
   "cell_type": "markdown",
   "metadata": {},
   "source": [
    "#### Permutations\n",
    "\n",
    "Permutations will return all possible orderings of an input"
   ]
  },
  {
   "cell_type": "code",
   "execution_count": 17,
   "metadata": {},
   "outputs": [
    {
     "name": "stdout",
     "output_type": "stream",
     "text": [
      "[(1, 2, 3), (1, 3, 2), (2, 1, 3), (2, 3, 1), (3, 1, 2), (3, 2, 1)]\n"
     ]
    }
   ],
   "source": [
    "# This program will use the permutations function to find all possible ordering of a list\n",
    "prePermuationsList = [1,2,3]\n",
    "perm = permutations(prePermuationsList)\n",
    "print(list(perm))"
   ]
  },
  {
   "cell_type": "code",
   "execution_count": 18,
   "metadata": {},
   "outputs": [
    {
     "name": "stdout",
     "output_type": "stream",
     "text": [
      "[(1, 2), (1, 3), (2, 1), (2, 3), (3, 1), (3, 2)]\n"
     ]
    }
   ],
   "source": [
    "# This program does the same as above but we pass in a another argument specifying the length of the permutation's \n",
    "prePermuationsList = [1,2,3]\n",
    "perm = permutations(prePermuationsList, 2)\n",
    "print(list(perm))"
   ]
  },
  {
   "attachments": {},
   "cell_type": "markdown",
   "metadata": {},
   "source": [
    "#### Combinations"
   ]
  },
  {
   "cell_type": "code",
   "execution_count": 25,
   "metadata": {},
   "outputs": [
    {
     "name": "stdout",
     "output_type": "stream",
     "text": [
      "[(1, 2), (1, 3), (1, 4), (2, 3), (2, 4), (3, 4)]\n"
     ]
    }
   ],
   "source": [
    "# this program uses the combinations function to find all possible combinations of given elements in a list with a specified size\n",
    "a = [1, 2, 3, 4]\n",
    "comb = combinations(a, 2) # the second argument for length is required her\n",
    "print(list(comb))"
   ]
  },
  {
   "cell_type": "code",
   "execution_count": 26,
   "metadata": {},
   "outputs": [
    {
     "name": "stdout",
     "output_type": "stream",
     "text": [
      "[(1, 1), (1, 2), (1, 3), (1, 4), (2, 2), (2, 3), (2, 4), (3, 3), (3, 4), (4, 4)]\n"
     ]
    }
   ],
   "source": [
    "from itertools import combinations_with_replacement\n",
    "a = [1, 2, 3, 4]\n",
    "comb_WR = combinations_with_replacement(a,2)\n",
    "print(list(comb_WR))"
   ]
  },
  {
   "attachments": {},
   "cell_type": "markdown",
   "metadata": {},
   "source": [
    "#### Accumulate "
   ]
  },
  {
   "cell_type": "code",
   "execution_count": 29,
   "metadata": {},
   "outputs": [
    {
     "name": "stdout",
     "output_type": "stream",
     "text": [
      "[1, 2, 3, 4]\n",
      "[1, 3, 6, 10]\n"
     ]
    }
   ],
   "source": [
    "# This program uses the accumulate function to create a new list where the new element in a list is the sum of the previous element\n",
    "a = [1, 2, 3, 4]\n",
    "acc = accumulate(a)\n",
    "print(a)\n",
    "print(list(acc))"
   ]
  },
  {
   "cell_type": "code",
   "execution_count": 31,
   "metadata": {},
   "outputs": [
    {
     "name": "stdout",
     "output_type": "stream",
     "text": [
      "[1, 2, 3, 4, 5, 6]\n",
      "[1, 2, 6, 24, 120, 720]\n"
     ]
    }
   ],
   "source": [
    "# This program does the what the previous one did, however this will show you can you can use other operators aside from the default sum\n",
    "import operator\n",
    "a = [1,2,3,4,5,6]\n",
    "acc2 = accumulate(a, func=operator.mul)\n",
    "print(a)\n",
    "print(list(acc2))"
   ]
  },
  {
   "cell_type": "code",
   "execution_count": 34,
   "metadata": {},
   "outputs": [
    {
     "name": "stdout",
     "output_type": "stream",
     "text": [
      "[1, 2, 3, 4, 5, 6, 7, 8, 9]\n",
      "[1, 0.5, 0.16666666666666666, 0.041666666666666664, 0.008333333333333333, 0.001388888888888889, 0.0001984126984126984, 2.48015873015873e-05, 2.7557319223985893e-06]\n"
     ]
    }
   ],
   "source": [
    "# same thing but division\n",
    "from operator import truediv # division operator from operator module\n",
    "\n",
    "a = [1,2,3,4,5,6,7,8,9]\n",
    "acc3 = accumulate(a , func=truediv)\n",
    "print(a)\n",
    "print(list(acc3))"
   ]
  },
  {
   "attachments": {},
   "cell_type": "markdown",
   "metadata": {},
   "source": [
    "#### Groupby function"
   ]
  },
  {
   "cell_type": "code",
   "execution_count": 38,
   "metadata": {},
   "outputs": [
    {
     "name": "stdout",
     "output_type": "stream",
     "text": [
      "True [1, 2]\n",
      "False [3, 4]\n"
     ]
    }
   ],
   "source": [
    "# this program will use the group by function to take in a list and a defined function to create a means of grouping\n",
    "a = [1,2,3,4]\n",
    "def smaller_than_3(x):\n",
    "    return x < 3\n",
    "group_object = groupby(a, key=smaller_than_3)\n",
    "for key, value in group_object:\n",
    "    print(key, list(value))\n",
    "# notice the output will come back with two list, True for the list of elements that meet our functions requirements and false for the ones that dont"
   ]
  },
  {
   "attachments": {},
   "cell_type": "markdown",
   "metadata": {},
   "source": [
    "# Lambda-Functions"
   ]
  },
  {
   "attachments": {},
   "cell_type": "markdown",
   "metadata": {},
   "source": [
    "# Exceptions-And-Errors"
   ]
  },
  {
   "attachments": {},
   "cell_type": "markdown",
   "metadata": {},
   "source": [
    "# Logging"
   ]
  },
  {
   "attachments": {},
   "cell_type": "markdown",
   "metadata": {},
   "source": [
    "# JSON"
   ]
  },
  {
   "attachments": {},
   "cell_type": "markdown",
   "metadata": {},
   "source": [
    "# Random-Numbers"
   ]
  },
  {
   "attachments": {},
   "cell_type": "markdown",
   "metadata": {},
   "source": [
    "# Decorators"
   ]
  },
  {
   "attachments": {},
   "cell_type": "markdown",
   "metadata": {},
   "source": [
    "# Generators"
   ]
  },
  {
   "attachments": {},
   "cell_type": "markdown",
   "metadata": {},
   "source": [
    "# Threading-vs-Multiprocessing"
   ]
  },
  {
   "attachments": {},
   "cell_type": "markdown",
   "metadata": {},
   "source": [
    "# Multithreading"
   ]
  },
  {
   "attachments": {},
   "cell_type": "markdown",
   "metadata": {},
   "source": [
    "# Multiprocessing"
   ]
  },
  {
   "attachments": {},
   "cell_type": "markdown",
   "metadata": {},
   "source": [
    "# Function-Arguments"
   ]
  },
  {
   "attachments": {},
   "cell_type": "markdown",
   "metadata": {},
   "source": [
    "# Shallow-vs-Deep-Copying"
   ]
  },
  {
   "attachments": {},
   "cell_type": "markdown",
   "metadata": {},
   "source": [
    "# The Asterisk-(*)-Operator"
   ]
  },
  {
   "attachments": {},
   "cell_type": "markdown",
   "metadata": {},
   "source": [
    "# Context-Managers\n"
   ]
  },
  {
   "attachments": {},
   "cell_type": "markdown",
   "metadata": {},
   "source": [
    "# Error-Handling"
   ]
  },
  {
   "attachments": {},
   "cell_type": "markdown",
   "metadata": {},
   "source": [
    "### An-Error"
   ]
  },
  {
   "cell_type": "code",
   "execution_count": null,
   "metadata": {},
   "outputs": [
    {
     "ename": "ValueError",
     "evalue": "invalid literal for int() with base 10: 'k'",
     "output_type": "error",
     "traceback": [
      "\u001b[0;31m---------------------------------------------------------------------------\u001b[0m",
      "\u001b[0;31mValueError\u001b[0m                                Traceback (most recent call last)",
      "Cell \u001b[0;32mIn[8], line 2\u001b[0m\n\u001b[1;32m      1\u001b[0m \u001b[39m# In this program we simply are just asking the user to input a number and then print it. Notice what happens when you type a letter in the prompt instead/\u001b[39;00m\n\u001b[0;32m----> 2\u001b[0m number \u001b[39m=\u001b[39m \u001b[39mint\u001b[39;49m(\u001b[39minput\u001b[39;49m(\u001b[39m\"\u001b[39;49m\u001b[39mEnter a number: \u001b[39;49m\u001b[39m\"\u001b[39;49m))\n\u001b[1;32m      3\u001b[0m \u001b[39mprint\u001b[39m(number)\n",
      "\u001b[0;31mValueError\u001b[0m: invalid literal for int() with base 10: 'k'"
     ]
    }
   ],
   "source": [
    "# In this program we simply are just asking the user to input a number and then print it. Notice what happens when you type a letter in the prompt instead/\n",
    "number = int(input(\"Enter a number: \"))\n",
    "print(number)"
   ]
  },
  {
   "attachments": {},
   "cell_type": "markdown",
   "metadata": {},
   "source": [
    "### Try and accept function "
   ]
  },
  {
   "cell_type": "code",
   "execution_count": null,
   "metadata": {},
   "outputs": [
    {
     "name": "stdout",
     "output_type": "stream",
     "text": [
      "invalid input\n"
     ]
    }
   ],
   "source": [
    "# In this program we us a try and accept function to respond to an error\n",
    "try:\n",
    "    number = int(input(\"Enter a number: \"))\n",
    "    print(number)\n",
    "\n",
    "except:\n",
    "    print(\"invalid input\")"
   ]
  },
  {
   "attachments": {},
   "cell_type": "markdown",
   "metadata": {},
   "source": [
    "#### Try and Accept function +"
   ]
  },
  {
   "cell_type": "code",
   "execution_count": null,
   "metadata": {},
   "outputs": [
    {
     "name": "stdout",
     "output_type": "stream",
     "text": [
      "I said number\n"
     ]
    }
   ],
   "source": [
    "# In this program we create two except functions and pass the types of error we want to look out for. Then we can respond accordingly.\n",
    "try:\n",
    "    #value = 10 / 0 \n",
    "    number = int(input(\"Enter a number: \"))\n",
    "    print(number)\n",
    "except ZeroDivisionError:\n",
    "    print(\"you can divide by zero\")\n",
    "except ValueError:\n",
    "    print(\"I said number\")\n"
   ]
  },
  {
   "cell_type": "code",
   "execution_count": null,
   "metadata": {},
   "outputs": [],
   "source": []
  },
  {
   "attachments": {},
   "cell_type": "markdown",
   "metadata": {},
   "source": [
    "# Object-Oriented-Programming"
   ]
  },
  {
   "cell_type": "code",
   "execution_count": null,
   "metadata": {},
   "outputs": [
    {
     "name": "stdout",
     "output_type": "stream",
     "text": [
      "hello there, Jeff\n",
      "hello there, gary\n",
      "hello there, Jill\n",
      "hello there, Samantha\n"
     ]
    }
   ],
   "source": [
    "names = ['Jeff', 'gary', 'Jill', 'Samantha']\n",
    "\n",
    "for i in names:\n",
    "    print(f\"hello there, {i}\")"
   ]
  }
 ],
 "metadata": {
  "kernelspec": {
   "display_name": "base",
   "language": "python",
   "name": "python3"
  },
  "language_info": {
   "codemirror_mode": {
    "name": "ipython",
    "version": 3
   },
   "file_extension": ".py",
   "mimetype": "text/x-python",
   "name": "python",
   "nbconvert_exporter": "python",
   "pygments_lexer": "ipython3",
   "version": "3.9.13"
  },
  "orig_nbformat": 4
 },
 "nbformat": 4,
 "nbformat_minor": 2
}
